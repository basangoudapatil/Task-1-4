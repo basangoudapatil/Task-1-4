{
  "nbformat": 4,
  "nbformat_minor": 0,
  "metadata": {
    "colab": {
      "provenance": [],
      "authorship_tag": "ABX9TyPqledYSk6zuNxTjvKKTFs7",
      "include_colab_link": true
    },
    "kernelspec": {
      "name": "python3",
      "display_name": "Python 3"
    },
    "language_info": {
      "name": "python"
    }
  },
  "cells": [
    {
      "cell_type": "markdown",
      "metadata": {
        "id": "view-in-github",
        "colab_type": "text"
      },
      "source": [
        "<a href=\"https://colab.research.google.com/github/basangoudapatil/DW-19-assignment/blob/main/Task_6(Brain_vs_Body).ipynb\" target=\"_parent\"><img src=\"https://colab.research.google.com/assets/colab-badge.svg\" alt=\"Open In Colab\"/></a>"
      ]
    },
    {
      "cell_type": "code",
      "execution_count": 1,
      "metadata": {
        "id": "428ZURUQBjbf"
      },
      "outputs": [],
      "source": [
        "import pandas as pd\n",
        "import numpy as np\n",
        "import seaborn as sns\n",
        "import matplotlib.pyplot as plt"
      ]
    },
    {
      "cell_type": "code",
      "source": [
        "df=pd.read_fwf('/content/brain_body.txt', delimiter=' ', error_bad_lines=False)\n",
        "print(df.head())"
      ],
      "metadata": {
        "colab": {
          "base_uri": "https://localhost:8080/"
        },
        "id": "paKpcs43BxV9",
        "outputId": "b154848d-a211-4c99-8769-5c986a1d6730"
      },
      "execution_count": 2,
      "outputs": [
        {
          "output_type": "stream",
          "name": "stdout",
          "text": [
            "     Brain   Body\n",
            "0    3.385   44.5\n",
            "1    0.480   15.5\n",
            "2    1.350    8.1\n",
            "3  465.000  423.0\n",
            "4   36.330  119.5\n"
          ]
        },
        {
          "output_type": "stream",
          "name": "stderr",
          "text": [
            "/usr/local/lib/python3.7/dist-packages/IPython/core/interactiveshell.py:3249: FutureWarning: The error_bad_lines argument has been deprecated and will be removed in a future version.\n",
            "\n",
            "\n",
            "  if (await self.run_code(code, result,  async_=asy)):\n"
          ]
        }
      ]
    },
    {
      "cell_type": "code",
      "source": [
        "df.shape"
      ],
      "metadata": {
        "colab": {
          "base_uri": "https://localhost:8080/"
        },
        "id": "vXO_Yg45B3zk",
        "outputId": "61b0b3b7-12ad-441c-f00f-973e70df8a15"
      },
      "execution_count": 3,
      "outputs": [
        {
          "output_type": "execute_result",
          "data": {
            "text/plain": [
              "(62, 2)"
            ]
          },
          "metadata": {},
          "execution_count": 3
        }
      ]
    },
    {
      "cell_type": "code",
      "source": [
        "#Brain\n",
        "print(df.Brain.shape)\n",
        "print(df.Brain.values)\n",
        "print(df.Brain.unique())\n",
        "print(df.Brain.dtypes)\n",
        "print(df.Brain.isnull().sum())\n",
        "df=df.drop_duplicates(subset='Brain')"
      ],
      "metadata": {
        "colab": {
          "base_uri": "https://localhost:8080/"
        },
        "id": "Mh8VRgiwB5gr",
        "outputId": "1b19b0ef-ae47-4993-c407-8ab0f323b3bc"
      },
      "execution_count": 4,
      "outputs": [
        {
          "output_type": "stream",
          "name": "stdout",
          "text": [
            "(62,)\n",
            "[3.385e+00 4.800e-01 1.350e+00 4.650e+02 3.633e+01 2.766e+01 1.483e+01\n",
            " 1.040e+00 4.190e+00 4.250e-01 1.010e-01 9.200e-01 1.000e+00 5.000e-03\n",
            " 6.000e-02 3.500e+00 2.000e+00 1.700e+00 2.547e+03 2.300e-02 1.871e+02\n",
            " 5.210e+02 7.850e-01 1.000e+01 3.300e+00 2.000e-01 1.410e+00 5.290e+02\n",
            " 2.070e+02 8.500e+01 7.500e-01 6.200e+01 6.654e+03 3.500e+00 6.800e+00\n",
            " 3.500e+01 4.050e+00 1.200e-01 2.300e-02 1.000e-02 1.400e+00 2.500e+02\n",
            " 2.500e+00 5.550e+01 1.000e+02 5.216e+01 1.055e+01 5.500e-01 6.000e+01\n",
            " 3.600e+00 4.288e+00 2.800e-01 7.500e-02 1.220e-01 4.800e-02 1.920e+02\n",
            " 3.000e+00 1.600e+02 9.000e-01 1.620e+00 1.040e-01 4.235e+00]\n",
            "[3.385e+00 4.800e-01 1.350e+00 4.650e+02 3.633e+01 2.766e+01 1.483e+01\n",
            " 1.040e+00 4.190e+00 4.250e-01 1.010e-01 9.200e-01 1.000e+00 5.000e-03\n",
            " 6.000e-02 3.500e+00 2.000e+00 1.700e+00 2.547e+03 2.300e-02 1.871e+02\n",
            " 5.210e+02 7.850e-01 1.000e+01 3.300e+00 2.000e-01 1.410e+00 5.290e+02\n",
            " 2.070e+02 8.500e+01 7.500e-01 6.200e+01 6.654e+03 6.800e+00 3.500e+01\n",
            " 4.050e+00 1.200e-01 1.000e-02 1.400e+00 2.500e+02 2.500e+00 5.550e+01\n",
            " 1.000e+02 5.216e+01 1.055e+01 5.500e-01 6.000e+01 3.600e+00 4.288e+00\n",
            " 2.800e-01 7.500e-02 1.220e-01 4.800e-02 1.920e+02 3.000e+00 1.600e+02\n",
            " 9.000e-01 1.620e+00 1.040e-01 4.235e+00]\n",
            "float64\n",
            "0\n"
          ]
        }
      ]
    },
    {
      "cell_type": "code",
      "source": [
        "#Body\n",
        "print(df.Body.shape)\n",
        "print(df.Body.values)\n",
        "print(df.Body.unique())\n",
        "print(df.Body.dtypes)\n",
        "print(df.Body.isnull().sum())\n",
        "df=df.drop_duplicates(subset='Body')"
      ],
      "metadata": {
        "colab": {
          "base_uri": "https://localhost:8080/"
        },
        "id": "ZKG15-YgB9MO",
        "outputId": "99f92671-483f-4f0b-c13d-95d73211d71b"
      },
      "execution_count": 5,
      "outputs": [
        {
          "output_type": "stream",
          "name": "stdout",
          "text": [
            "(60,)\n",
            "[4.450e+01 1.550e+01 8.100e+00 4.230e+02 1.195e+02 1.150e+02 9.820e+01\n",
            " 5.500e+00 5.800e+01 6.400e+00 4.000e+00 5.700e+00 6.600e+00 1.400e-01\n",
            " 1.000e+00 1.080e+01 1.230e+01 6.300e+00 4.603e+03 3.000e-01 4.190e+02\n",
            " 6.550e+02 3.500e+00 1.150e+02 2.560e+01 5.000e+00 1.750e+01 6.800e+02\n",
            " 4.060e+02 3.250e+02 1.230e+01 1.320e+03 5.712e+03 1.790e+02 5.600e+01\n",
            " 1.700e+01 1.000e+00 2.500e-01 1.250e+01 4.900e+02 1.210e+01 1.750e+02\n",
            " 1.570e+02 4.400e+02 1.795e+02 2.400e+00 8.100e+01 2.100e+01 3.920e+01\n",
            " 1.900e+00 1.200e+00 3.000e+00 3.300e-01 1.800e+02 2.500e+01 1.690e+02\n",
            " 2.600e+00 1.140e+01 2.500e+00 5.040e+01]\n",
            "[4.450e+01 1.550e+01 8.100e+00 4.230e+02 1.195e+02 1.150e+02 9.820e+01\n",
            " 5.500e+00 5.800e+01 6.400e+00 4.000e+00 5.700e+00 6.600e+00 1.400e-01\n",
            " 1.000e+00 1.080e+01 1.230e+01 6.300e+00 4.603e+03 3.000e-01 4.190e+02\n",
            " 6.550e+02 3.500e+00 2.560e+01 5.000e+00 1.750e+01 6.800e+02 4.060e+02\n",
            " 3.250e+02 1.320e+03 5.712e+03 1.790e+02 5.600e+01 1.700e+01 2.500e-01\n",
            " 1.250e+01 4.900e+02 1.210e+01 1.750e+02 1.570e+02 4.400e+02 1.795e+02\n",
            " 2.400e+00 8.100e+01 2.100e+01 3.920e+01 1.900e+00 1.200e+00 3.000e+00\n",
            " 3.300e-01 1.800e+02 2.500e+01 1.690e+02 2.600e+00 1.140e+01 2.500e+00\n",
            " 5.040e+01]\n",
            "float64\n",
            "0\n"
          ]
        }
      ]
    },
    {
      "cell_type": "code",
      "source": [
        "df.shape"
      ],
      "metadata": {
        "colab": {
          "base_uri": "https://localhost:8080/"
        },
        "id": "KqYSl80kEchA",
        "outputId": "21b50803-3431-418a-9ec4-23961572052c"
      },
      "execution_count": 16,
      "outputs": [
        {
          "output_type": "execute_result",
          "data": {
            "text/plain": [
              "(57, 2)"
            ]
          },
          "metadata": {},
          "execution_count": 16
        }
      ]
    },
    {
      "cell_type": "code",
      "source": [
        "Q3 = df.Brain.quantile(0.75)\n",
        "Q1 = df.Brain.quantile(0.25)\n",
        "iqr= Q3 - Q1\n",
        "upper_threshold = Q3 + (1.5*iqr)\n",
        "lower_threshold = Q1 - (1.5*iqr)\n",
        "print(upper_threshold)\n",
        "print(lower_threshold)"
      ],
      "metadata": {
        "colab": {
          "base_uri": "https://localhost:8080/"
        },
        "id": "Sce8fII_Cqip",
        "outputId": "8f19bbcd-9663-431b-c8cd-2f29e3bf0486"
      },
      "execution_count": 9,
      "outputs": [
        {
          "output_type": "stream",
          "name": "stdout",
          "text": [
            "137.5725\n",
            "-81.28750000000001\n"
          ]
        }
      ]
    },
    {
      "cell_type": "code",
      "source": [
        "df.Brain.describe()"
      ],
      "metadata": {
        "colab": {
          "base_uri": "https://localhost:8080/"
        },
        "id": "6aehkGUdDLsW",
        "outputId": "509528e7-9f0d-4cc4-dafd-e736078c4718"
      },
      "execution_count": 11,
      "outputs": [
        {
          "output_type": "execute_result",
          "data": {
            "text/plain": [
              "count      57.000000\n",
              "mean      215.975193\n",
              "std       936.452092\n",
              "min         0.005000\n",
              "25%         0.785000\n",
              "50%         3.385000\n",
              "75%        55.500000\n",
              "max      6654.000000\n",
              "Name: Brain, dtype: float64"
            ]
          },
          "metadata": {},
          "execution_count": 11
        }
      ]
    },
    {
      "cell_type": "code",
      "source": [
        "df.plot(x='Brain', y='Body', style= 'o')\n",
        "plt.title=('Brain vs Body')\n",
        "plt.xlabel('Brain weight')\n",
        "plt.ylabel('Body weight')\n",
        "plt.show()"
      ],
      "metadata": {
        "colab": {
          "base_uri": "https://localhost:8080/",
          "height": 279
        },
        "id": "rV-XJ6dFB-5H",
        "outputId": "92f220b0-5a07-4ea2-a774-811494176aa5"
      },
      "execution_count": 7,
      "outputs": [
        {
          "output_type": "display_data",
          "data": {
            "text/plain": [
              "<Figure size 432x288 with 1 Axes>"
            ],
            "image/png": "[encoded data removed]"
          },
          "metadata": {
            "needs_background": "light"
          }
        }
      ]
    },
    {
      "cell_type": "code",
      "source": [
        "df.corr()"
      ],
      "metadata": {
        "colab": {
          "base_uri": "https://localhost:8080/",
          "height": 112
        },
        "id": "Dn53wUEYCoCM",
        "outputId": "7c1d76f8-886f-492e-c2c3-14d6ed21ed4b"
      },
      "execution_count": 8,
      "outputs": [
        {
          "output_type": "execute_result",
          "data": {
            "text/plain": [
              "          Brain      Body\n",
              "Brain  1.000000  0.934024\n",
              "Body   0.934024  1.000000"
            ],
            "text/html": [
              "\n",
              "  <div id=\"df-20d67513-8171-40bb-94c6-92500f6212b5\">\n",
              "    <div class=\"colab-df-container\">\n",
              "      <div>\n",
              "<style scoped>\n",
              "    .dataframe tbody tr th:only-of-type {\n",
              "        vertical-align: middle;\n",
              "    }\n",
              "\n",
              "    .dataframe tbody tr th {\n",
              "        vertical-align: top;\n",
              "    }\n",
              "\n",
              "    .dataframe thead th {\n",
              "        text-align: right;\n",
              "    }\n",
              "</style>\n",
              "<table border=\"1\" class=\"dataframe\">\n",
              "  <thead>\n",
              "    <tr style=\"text-align: right;\">\n",
              "      <th></th>\n",
              "      <th>Brain</th>\n",
              "      <th>Body</th>\n",
              "    </tr>\n",
              "  </thead>\n",
              "  <tbody>\n",
              "    <tr>\n",
              "      <th>Brain</th>\n",
              "      <td>1.000000</td>\n",
              "      <td>0.934024</td>\n",
              "    </tr>\n",
              "    <tr>\n",
              "      <th>Body</th>\n",
              "      <td>0.934024</td>\n",
              "      <td>1.000000</td>\n",
              "    </tr>\n",
              "  </tbody>\n",
              "</table>\n",
              "</div>\n",
              "      <button class=\"colab-df-convert\" onclick=\"convertToInteractive('df-20d67513-8171-40bb-94c6-92500f6212b5')\"\n",
              "              title=\"Convert this dataframe to an interactive table.\"\n",
              "              style=\"display:none;\">\n",
              "        \n",
              "  <svg xmlns=\"http://www.w3.org/2000/svg\" height=\"24px\"viewBox=\"0 0 24 24\"\n",
              "       width=\"24px\">\n",
              "    <path d=\"M0 0h24v24H0V0z\" fill=\"none\"/>\n",
              "    <path d=\"M18.56 5.44l.94 2.06.94-2.06 2.06-.94-2.06-.94-.94-2.06-.94 2.06-2.06.94zm-11 1L8.5 8.5l.94-2.06 2.06-.94-2.06-.94L8.5 2.5l-.94 2.06-2.06.94zm10 10l.94 2.06.94-2.06 2.06-.94-2.06-.94-.94-2.06-.94 2.06-2.06.94z\"/><path d=\"M17.41 7.96l-1.37-1.37c-.4-.4-.92-.59-1.43-.59-.52 0-1.04.2-1.43.59L10.3 9.45l-7.72 7.72c-.78.78-.78 2.05 0 2.83L4 21.41c.39.39.9.59 1.41.59.51 0 1.02-.2 1.41-.59l7.78-7.78 2.81-2.81c.8-.78.8-2.07 0-2.86zM5.41 20L4 18.59l7.72-7.72 1.47 1.35L5.41 20z\"/>\n",
              "  </svg>\n",
              "      </button>\n",
              "      \n",
              "  <style>\n",
              "    .colab-df-container {\n",
              "      display:flex;\n",
              "      flex-wrap:wrap;\n",
              "      gap: 12px;\n",
              "    }\n",
              "\n",
              "    .colab-df-convert {\n",
              "      background-color: #E8F0FE;\n",
              "      border: none;\n",
              "      border-radius: 50%;\n",
              "      cursor: pointer;\n",
              "      display: none;\n",
              "      fill: #1967D2;\n",
              "      height: 32px;\n",
              "      padding: 0 0 0 0;\n",
              "      width: 32px;\n",
              "    }\n",
              "\n",
              "    .colab-df-convert:hover {\n",
              "      background-color: #E2EBFA;\n",
              "      box-shadow: 0px 1px 2px rgba(60, 64, 67, 0.3), 0px 1px 3px 1px rgba(60, 64, 67, 0.15);\n",
              "      fill: #174EA6;\n",
              "    }\n",
              "\n",
              "    [theme=dark] .colab-df-convert {\n",
              "      background-color: #3B4455;\n",
              "      fill: #D2E3FC;\n",
              "    }\n",
              "\n",
              "    [theme=dark] .colab-df-convert:hover {\n",
              "      background-color: #434B5C;\n",
              "      box-shadow: 0px 1px 3px 1px rgba(0, 0, 0, 0.15);\n",
              "      filter: drop-shadow(0px 1px 2px rgba(0, 0, 0, 0.3));\n",
              "      fill: #FFFFFF;\n",
              "    }\n",
              "  </style>\n",
              "\n",
              "      <script>\n",
              "        const buttonEl =\n",
              "          document.querySelector('#df-20d67513-8171-40bb-94c6-92500f6212b5 button.colab-df-convert');\n",
              "        buttonEl.style.display =\n",
              "          google.colab.kernel.accessAllowed ? 'block' : 'none';\n",
              "\n",
              "        async function convertToInteractive(key) {\n",
              "          const element = document.querySelector('#df-20d67513-8171-40bb-94c6-92500f6212b5');\n",
              "          const dataTable =\n",
              "            await google.colab.kernel.invokeFunction('convertToInteractive',\n",
              "                                                     [key], {});\n",
              "          if (!dataTable) return;\n",
              "\n",
              "          const docLinkHtml = 'Like what you see? Visit the ' +\n",
              "            '<a target=\"_blank\" href=https://colab.research.google.com/notebooks/data_table.ipynb>data table notebook</a>'\n",
              "            + ' to learn more about interactive tables.';\n",
              "          element.innerHTML = '';\n",
              "          dataTable['output_type'] = 'display_data';\n",
              "          await google.colab.output.renderOutput(dataTable, element);\n",
              "          const docLink = document.createElement('div');\n",
              "          docLink.innerHTML = docLinkHtml;\n",
              "          element.appendChild(docLink);\n",
              "        }\n",
              "      </script>\n",
              "    </div>\n",
              "  </div>\n",
              "  "
            ]
          },
          "metadata": {},
          "execution_count": 8
        }
      ]
    },
    {
      "cell_type": "markdown",
      "source": [
        "Preparing the Data"
      ],
      "metadata": {
        "id": "YfQf-pGEDYI2"
      }
    },
    {
      "cell_type": "code",
      "source": [
        "X = df.loc[:,['Brain']].values # selecet all the rows and columns except the last column as my feature\n",
        "y = df.loc[:, 'Body'].values # target as arrays\n",
        "\n",
        "from sklearn.model_selection import train_test_split\n",
        "X_train, X_test, y_train, y_test = train_test_split(X, y, test_size = 0.2)"
      ],
      "metadata": {
        "id": "aQ37-J3ADSuh"
      },
      "execution_count": 12,
      "outputs": []
    },
    {
      "cell_type": "code",
      "source": [
        "y_test"
      ],
      "metadata": {
        "colab": {
          "base_uri": "https://localhost:8080/"
        },
        "id": "0F-l2lw8EJ2s",
        "outputId": "629083a0-21fa-4881-effe-69f0b4a2ec03"
      },
      "execution_count": 14,
      "outputs": [
        {
          "output_type": "execute_result",
          "data": {
            "text/plain": [
              "array([1.750e+02, 5.712e+03, 4.000e+00, 4.603e+03, 2.100e+01, 4.900e+02,\n",
              "       1.700e+01, 6.800e+02, 5.040e+01, 1.140e+01, 6.300e+00, 1.400e-01])"
            ]
          },
          "metadata": {},
          "execution_count": 14
        }
      ]
    },
    {
      "cell_type": "code",
      "source": [
        "X_train.shape, X_test.shape"
      ],
      "metadata": {
        "colab": {
          "base_uri": "https://localhost:8080/"
        },
        "id": "aoKCYuTCEP7I",
        "outputId": "7ec8a442-413e-4ef7-8409-02f32aada281"
      },
      "execution_count": 15,
      "outputs": [
        {
          "output_type": "execute_result",
          "data": {
            "text/plain": [
              "((45, 1), (12, 1))"
            ]
          },
          "metadata": {},
          "execution_count": 15
        }
      ]
    },
    {
      "cell_type": "markdown",
      "source": [
        "Modelling"
      ],
      "metadata": {
        "id": "Y3d9IpuAEiu8"
      }
    },
    {
      "cell_type": "code",
      "source": [
        "from sklearn.linear_model import LinearRegression\n",
        "regressor= LinearRegression()\n",
        "\n",
        "regressor.fit(X_train, y_train)"
      ],
      "metadata": {
        "colab": {
          "base_uri": "https://localhost:8080/"
        },
        "id": "p5fcI8uOEfX5",
        "outputId": "5e0450cf-6e8a-4c6e-8371-ff40f84458d8"
      },
      "execution_count": 17,
      "outputs": [
        {
          "output_type": "execute_result",
          "data": {
            "text/plain": [
              "LinearRegression()"
            ]
          },
          "metadata": {},
          "execution_count": 17
        }
      ]
    },
    {
      "cell_type": "code",
      "source": [
        "print(regressor.intercept_)"
      ],
      "metadata": {
        "colab": {
          "base_uri": "https://localhost:8080/"
        },
        "id": "SVnfIh9uE2As",
        "outputId": "5ded0806-af0f-47ef-81b2-a6435713b3b5"
      },
      "execution_count": 19,
      "outputs": [
        {
          "output_type": "stream",
          "name": "stdout",
          "text": [
            "66.12902266993052\n"
          ]
        }
      ]
    },
    {
      "cell_type": "code",
      "source": [
        "print(regressor.coef_)"
      ],
      "metadata": {
        "colab": {
          "base_uri": "https://localhost:8080/"
        },
        "id": "AlofRUWoE61Q",
        "outputId": "64088ace-f649-437e-976b-026f74d3925e"
      },
      "execution_count": 20,
      "outputs": [
        {
          "output_type": "stream",
          "name": "stdout",
          "text": [
            "[1.18404442]\n"
          ]
        }
      ]
    },
    {
      "cell_type": "code",
      "source": [
        "y_pred = regressor.predict(X_test)\n",
        "print(y_pred)"
      ],
      "metadata": {
        "colab": {
          "base_uri": "https://localhost:8080/"
        },
        "id": "f8gTPdRiFB4z",
        "outputId": "15c184f1-060a-4f98-ad57-6736e89d4f37"
      },
      "execution_count": 21,
      "outputs": [
        {
          "output_type": "stream",
          "name": "stdout",
          "text": [
            "[ 131.843488   7944.76059526   66.24861116 3081.89016114   70.39158258\n",
            "  362.14012774   70.92440257  692.488521     71.14345079   68.04717463\n",
            "   68.14189818   66.13494289]\n"
          ]
        }
      ]
    },
    {
      "cell_type": "code",
      "source": [
        "df1 = pd.DataFrame({'Actual': y_test, 'Predicted': y_pred})\n",
        "print(df1)"
      ],
      "metadata": {
        "colab": {
          "base_uri": "https://localhost:8080/"
        },
        "id": "aE7kZUtQFQ6y",
        "outputId": "e6c7d901-e187-45e2-8978-a8f7465415ee"
      },
      "execution_count": 25,
      "outputs": [
        {
          "output_type": "stream",
          "name": "stdout",
          "text": [
            "     Actual    Predicted\n",
            "0    175.00   131.843488\n",
            "1   5712.00  7944.760595\n",
            "2      4.00    66.248611\n",
            "3   4603.00  3081.890161\n",
            "4     21.00    70.391583\n",
            "5    490.00   362.140128\n",
            "6     17.00    70.924403\n",
            "7    680.00   692.488521\n",
            "8     50.40    71.143451\n",
            "9     11.40    68.047175\n",
            "10     6.30    68.141898\n",
            "11     0.14    66.134943\n"
          ]
        }
      ]
    },
    {
      "cell_type": "markdown",
      "source": [
        "Metrics"
      ],
      "metadata": {
        "id": "daZFU2dYFqvc"
      }
    },
    {
      "cell_type": "code",
      "source": [
        "from sklearn import metrics\n",
        "print('R2 - SCORE:', metrics.r2_score(y_test, y_pred))"
      ],
      "metadata": {
        "colab": {
          "base_uri": "https://localhost:8080/"
        },
        "id": "wqLNWeh6FsRn",
        "outputId": "ebffda79-7199-4356-e63e-b0bb98e8db91"
      },
      "execution_count": 26,
      "outputs": [
        {
          "output_type": "stream",
          "name": "stdout",
          "text": [
            "R2 - SCORE: 0.8293642896808543\n"
          ]
        }
      ]
    }
  ]
}