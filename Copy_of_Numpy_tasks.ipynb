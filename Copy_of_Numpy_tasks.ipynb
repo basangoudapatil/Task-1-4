{
  "cells": [
    {
      "cell_type": "markdown",
      "metadata": {
        "id": "view-in-github",
        "colab_type": "text"
      },
      "source": [
        "<a href=\"https://colab.research.google.com/github/basangoudapatil/DW-19-assignment/blob/main/Copy_of_Numpy_tasks.ipynb\" target=\"_parent\"><img src=\"https://colab.research.google.com/assets/colab-badge.svg\" alt=\"Open In Colab\"/></a>"
      ]
    },
    {
      "cell_type": "markdown",
      "metadata": {
        "id": "-FEeMxw22Abv"
      },
      "source": [
        "# Numpy\n",
        "\n"
      ]
    },
    {
      "cell_type": "markdown",
      "metadata": {
        "id": "4CfKQfY42Abz"
      },
      "source": [
        "#### 1. Import the numpy package under the name `np` (★☆☆) \n",
        "(**hint**: import … as …)"
      ]
    },
    {
      "cell_type": "code",
      "execution_count": null,
      "metadata": {
        "collapsed": true,
        "id": "9Im2nU3j2Ab0"
      },
      "outputs": [],
      "source": [
        "import numpy as np"
      ]
    },
    {
      "cell_type": "markdown",
      "metadata": {
        "id": "7yWVPmSC2Ab1"
      },
      "source": [
        "#### 2. Print the numpy version and the configuration (★☆☆) \n",
        "(**hint**: np.\\_\\_version\\_\\_, np.show\\_config)"
      ]
    },
    {
      "cell_type": "code",
      "execution_count": null,
      "metadata": {
        "id": "XffmclkR2Ab1",
        "outputId": "0a6cae1c-19a4-4f0c-aa99-e6a1d2cc24f0",
        "colab": {
          "base_uri": "https://localhost:8080/"
        }
      },
      "outputs": [
        {
          "output_type": "stream",
          "name": "stdout",
          "text": [
            "blas_mkl_info:\n",
            "  NOT AVAILABLE\n",
            "blis_info:\n",
            "  NOT AVAILABLE\n",
            "openblas_info:\n",
            "    libraries = ['openblas', 'openblas']\n",
            "    library_dirs = ['/usr/local/lib']\n",
            "    language = c\n",
            "    define_macros = [('HAVE_CBLAS', None)]\n",
            "    runtime_library_dirs = ['/usr/local/lib']\n",
            "blas_opt_info:\n",
            "    libraries = ['openblas', 'openblas']\n",
            "    library_dirs = ['/usr/local/lib']\n",
            "    language = c\n",
            "    define_macros = [('HAVE_CBLAS', None)]\n",
            "    runtime_library_dirs = ['/usr/local/lib']\n",
            "lapack_mkl_info:\n",
            "  NOT AVAILABLE\n",
            "openblas_lapack_info:\n",
            "    libraries = ['openblas', 'openblas']\n",
            "    library_dirs = ['/usr/local/lib']\n",
            "    language = c\n",
            "    define_macros = [('HAVE_CBLAS', None)]\n",
            "    runtime_library_dirs = ['/usr/local/lib']\n",
            "lapack_opt_info:\n",
            "    libraries = ['openblas', 'openblas']\n",
            "    library_dirs = ['/usr/local/lib']\n",
            "    language = c\n",
            "    define_macros = [('HAVE_CBLAS', None)]\n",
            "    runtime_library_dirs = ['/usr/local/lib']\n",
            "Supported SIMD extensions in this NumPy install:\n",
            "    baseline = SSE,SSE2,SSE3\n",
            "    found = SSSE3,SSE41,POPCNT,SSE42,AVX,F16C,FMA3,AVX2\n",
            "    not found = AVX512F,AVX512CD,AVX512_KNL,AVX512_KNM,AVX512_SKX,AVX512_CLX,AVX512_CNL,AVX512_ICL\n",
            "1.21.6\n",
            "None\n"
          ]
        }
      ],
      "source": [
        "import numpy as np\n",
        "x=np.version.version\n",
        "y=np.show_config()\n",
        "print(x)\n",
        "print(y)"
      ]
    },
    {
      "cell_type": "markdown",
      "metadata": {
        "id": "KT-xLrSc2Ab1"
      },
      "source": [
        "#### 3. Create a null vector of size 10 (★☆☆) \n",
        "(**hint**: np.zeros)"
      ]
    },
    {
      "cell_type": "code",
      "execution_count": null,
      "metadata": {
        "id": "nUOjv9_S2Ab2",
        "outputId": "7e9a3d48-7ce0-404a-cf58-e299962df17b",
        "colab": {
          "base_uri": "https://localhost:8080/"
        }
      },
      "outputs": [
        {
          "output_type": "stream",
          "name": "stdout",
          "text": [
            "[0. 0. 0. 0. 0. 0. 0. 0. 0. 0.]\n"
          ]
        }
      ],
      "source": [
        "import numpy as np\n",
        "a=np.zeros(10)\n",
        "print(a)"
      ]
    },
    {
      "cell_type": "markdown",
      "metadata": {
        "id": "x7ISugZT2Ab3"
      },
      "source": [
        "#### 4.  How to find the memory size of any array (★☆☆) \n",
        "(**hint**: size, itemsize)"
      ]
    },
    {
      "cell_type": "code",
      "execution_count": null,
      "metadata": {
        "id": "IB65mjd32Ab3",
        "colab": {
          "base_uri": "https://localhost:8080/"
        },
        "outputId": "3d336240-6c3f-4c26-a97f-35f615404b1c"
      },
      "outputs": [
        {
          "output_type": "stream",
          "name": "stdout",
          "text": [
            "4\n",
            "8\n",
            "32\n"
          ]
        }
      ],
      "source": [
        "import numpy as np\n",
        "a=np.array([10,20,30,40])\n",
        "print(a.size)\n",
        "print(a.itemsize)\n",
        "print(a.size*a.itemsize)"
      ]
    },
    {
      "cell_type": "markdown",
      "metadata": {
        "id": "5_s_r75Z2Ab3"
      },
      "source": [
        "#### 5.  How to get the documentation of the numpy add function from the command line? (★☆☆) \n",
        "(**hint**: np.info)"
      ]
    },
    {
      "cell_type": "code",
      "execution_count": null,
      "metadata": {
        "collapsed": true,
        "id": "9ptKyPaw2Ab4",
        "colab": {
          "base_uri": "https://localhost:8080/"
        },
        "outputId": "1f93bcfc-789b-4b04-b58b-ce97c602cb87"
      },
      "outputs": [
        {
          "output_type": "stream",
          "name": "stdout",
          "text": [
            "add(x1, x2, /, out=None, *, where=True, casting='same_kind', order='K', dtype=None, subok=True[, signature, extobj])\n",
            "\n",
            "Add arguments element-wise.\n",
            "\n",
            "Parameters\n",
            "----------\n",
            "x1, x2 : array_like\n",
            "    The arrays to be added.\n",
            "    If ``x1.shape != x2.shape``, they must be broadcastable to a common\n",
            "    shape (which becomes the shape of the output).\n",
            "out : ndarray, None, or tuple of ndarray and None, optional\n",
            "    A location into which the result is stored. If provided, it must have\n",
            "    a shape that the inputs broadcast to. If not provided or None,\n",
            "    a freshly-allocated array is returned. A tuple (possible only as a\n",
            "    keyword argument) must have length equal to the number of outputs.\n",
            "where : array_like, optional\n",
            "    This condition is broadcast over the input. At locations where the\n",
            "    condition is True, the `out` array will be set to the ufunc result.\n",
            "    Elsewhere, the `out` array will retain its original value.\n",
            "    Note that if an uninitialized `out` array is created via the default\n",
            "    ``out=None``, locations within it where the condition is False will\n",
            "    remain uninitialized.\n",
            "**kwargs\n",
            "    For other keyword-only arguments, see the\n",
            "    :ref:`ufunc docs <ufuncs.kwargs>`.\n",
            "\n",
            "Returns\n",
            "-------\n",
            "add : ndarray or scalar\n",
            "    The sum of `x1` and `x2`, element-wise.\n",
            "    This is a scalar if both `x1` and `x2` are scalars.\n",
            "\n",
            "Notes\n",
            "-----\n",
            "Equivalent to `x1` + `x2` in terms of array broadcasting.\n",
            "\n",
            "Examples\n",
            "--------\n",
            ">>> np.add(1.0, 4.0)\n",
            "5.0\n",
            ">>> x1 = np.arange(9.0).reshape((3, 3))\n",
            ">>> x2 = np.arange(3.0)\n",
            ">>> np.add(x1, x2)\n",
            "array([[  0.,   2.,   4.],\n",
            "       [  3.,   5.,   7.],\n",
            "       [  6.,   8.,  10.]])\n",
            "\n",
            "The ``+`` operator can be used as a shorthand for ``np.add`` on ndarrays.\n",
            "\n",
            ">>> x1 = np.arange(9.0).reshape((3, 3))\n",
            ">>> x2 = np.arange(3.0)\n",
            ">>> x1 + x2\n",
            "array([[ 0.,  2.,  4.],\n",
            "       [ 3.,  5.,  7.],\n",
            "       [ 6.,  8., 10.]])\n",
            "None\n"
          ]
        }
      ],
      "source": [
        "import numpy as np\n",
        "a=np.info(np.add)\n",
        "print(a)"
      ]
    },
    {
      "cell_type": "markdown",
      "metadata": {
        "id": "fxY8RyDl2Ab4"
      },
      "source": [
        "#### 6.  Create a null vector of size 10 but the fifth value which is 1 (★☆☆) \n",
        "(**hint**: array\\[4\\])"
      ]
    },
    {
      "cell_type": "code",
      "execution_count": null,
      "metadata": {
        "id": "5rbHvs5p2Ab5",
        "colab": {
          "base_uri": "https://localhost:8080/"
        },
        "outputId": "d82621b1-0c66-4bfe-c30b-648eeed5decd"
      },
      "outputs": [
        {
          "output_type": "stream",
          "name": "stdout",
          "text": [
            "[0. 0. 0. 0. 1. 0. 0. 0. 0. 0.]\n"
          ]
        }
      ],
      "source": [
        "import numpy as np\n",
        "a=np.zeros(10)\n",
        "a[4]=1\n",
        "print(a)"
      ]
    },
    {
      "cell_type": "markdown",
      "metadata": {
        "id": "NlmS8FZ92Ab5"
      },
      "source": [
        "#### 7.  Create a vector with values ranging from 10 to 49 (★☆☆) \n",
        "(**hint**: np.arange)"
      ]
    },
    {
      "cell_type": "code",
      "execution_count": null,
      "metadata": {
        "id": "jb0enhWY2Ab5",
        "colab": {
          "base_uri": "https://localhost:8080/"
        },
        "outputId": "b2f0638a-863b-4ba8-db7f-fbc2d328ce4b"
      },
      "outputs": [
        {
          "output_type": "stream",
          "name": "stdout",
          "text": [
            "[10 11 12 13 14 15 16 17 18 19 20 21 22 23 24 25 26 27 28 29 30 31 32 33\n",
            " 34 35 36 37 38 39 40 41 42 43 44 45 46 47 48 49]\n"
          ]
        }
      ],
      "source": [
        "import numpy as np\n",
        "a=np.arange(10,50)\n",
        "print(a)"
      ]
    },
    {
      "cell_type": "markdown",
      "metadata": {
        "id": "hlnzsiiC2Ab5"
      },
      "source": [
        "#### 8.  Reverse a vector (first element becomes last) (★☆☆) \n",
        "(**hint**: array\\[::-1\\])"
      ]
    },
    {
      "cell_type": "code",
      "execution_count": null,
      "metadata": {
        "id": "_O9_traO2Ab6",
        "colab": {
          "base_uri": "https://localhost:8080/"
        },
        "outputId": "464b3827-503a-4787-edf2-885e182414a2"
      },
      "outputs": [
        {
          "output_type": "stream",
          "name": "stdout",
          "text": [
            "[49 48 47 46 45 44 43 42 41 40 39 38 37 36 35 34 33 32 31 30 29 28 27 26\n",
            " 25 24 23 22 21 20 19 18 17 16 15 14 13 12 11 10]\n"
          ]
        }
      ],
      "source": [
        "import numpy as np\n",
        "a=np.arange(10,50)\n",
        "array=a\n",
        "z=array[::-1]\n",
        "print(z)"
      ]
    },
    {
      "cell_type": "markdown",
      "metadata": {
        "id": "rLIB1M3m2Ab6"
      },
      "source": [
        "#### 9.  Create a 3x3 matrix with values ranging from 0 to 8 (★☆☆) \n",
        "(**hint**: reshape)"
      ]
    },
    {
      "cell_type": "code",
      "execution_count": null,
      "metadata": {
        "id": "fELFqBWg2Ab6",
        "colab": {
          "base_uri": "https://localhost:8080/"
        },
        "outputId": "b825d920-6fc8-4617-bab8-22657ba1b82d"
      },
      "outputs": [
        {
          "output_type": "stream",
          "name": "stdout",
          "text": [
            "[[0 1 2]\n",
            " [3 4 5]\n",
            " [6 7 8]]\n"
          ]
        }
      ],
      "source": [
        "import numpy as np\n",
        "a=np.arange(0,9)\n",
        "print(a.reshape((3,3)))"
      ]
    },
    {
      "cell_type": "markdown",
      "metadata": {
        "id": "pIwc68E42Ab6"
      },
      "source": [
        "#### 10. Find indices of non-zero elements from \\[1,2,0,0,4,0\\] (★☆☆) \n",
        "(**hint**: np.nonzero)"
      ]
    },
    {
      "cell_type": "code",
      "execution_count": null,
      "metadata": {
        "id": "WuGS1Nuv2Ab7",
        "colab": {
          "base_uri": "https://localhost:8080/"
        },
        "outputId": "65a8ccd7-a18b-4c67-ebcd-1f01168e36e7"
      },
      "outputs": [
        {
          "output_type": "stream",
          "name": "stdout",
          "text": [
            "(array([0, 1, 4]),)\n"
          ]
        }
      ],
      "source": [
        "import numpy as np\n",
        "a=[1,2,0,0,4,0]\n",
        "z=np.array(a)\n",
        "x=np.nonzero(z)\n",
        "print(x)"
      ]
    },
    {
      "cell_type": "markdown",
      "metadata": {
        "id": "RKN43kXK2Ab7"
      },
      "source": [
        "#### 11. Create a 3x3 identity matrix (★☆☆) \n",
        "(**hint**: np.eye)"
      ]
    },
    {
      "cell_type": "code",
      "execution_count": null,
      "metadata": {
        "id": "B_iXp1Nx2Ab7",
        "colab": {
          "base_uri": "https://localhost:8080/"
        },
        "outputId": "54527b6c-6051-4964-c304-9e0f42f517be"
      },
      "outputs": [
        {
          "output_type": "stream",
          "name": "stdout",
          "text": [
            "[[1. 0. 0.]\n",
            " [0. 1. 0.]\n",
            " [0. 0. 1.]]\n"
          ]
        }
      ],
      "source": [
        "import numpy as np\n",
        "a=np.eye(3)\n",
        "print(a)"
      ]
    },
    {
      "cell_type": "markdown",
      "metadata": {
        "id": "-eiD2RJm2Ab7"
      },
      "source": [
        "#### 12. Create a 3x3x3 array with random values (★☆☆) \n",
        "(**hint**: np.random.random)"
      ]
    },
    {
      "cell_type": "code",
      "execution_count": null,
      "metadata": {
        "collapsed": true,
        "id": "QSuhdnSD2Ab7",
        "colab": {
          "base_uri": "https://localhost:8080/"
        },
        "outputId": "e16869bf-0937-4b71-d183-c0c58fdb6918"
      },
      "outputs": [
        {
          "output_type": "stream",
          "name": "stdout",
          "text": [
            "[[[0.6264736  0.52852886 0.76173489]\n",
            "  [0.96132915 0.16290124 0.03136547]\n",
            "  [0.68042116 0.78139631 0.13792994]]\n",
            "\n",
            " [[0.90321325 0.11209255 0.39203993]\n",
            "  [0.95322209 0.51189244 0.55463292]\n",
            "  [0.05792704 0.41760901 0.45435169]]\n",
            "\n",
            " [[0.99256098 0.64723502 0.77017158]\n",
            "  [0.28050681 0.97290255 0.42161821]\n",
            "  [0.76207937 0.08562783 0.26455878]]]\n"
          ]
        }
      ],
      "source": [
        "import numpy as np\n",
        "a=np.random.rand(3,3,3)\n",
        "print(a)"
      ]
    },
    {
      "cell_type": "markdown",
      "metadata": {
        "id": "hSzniASZ2Ab7"
      },
      "source": [
        "#### 13. Create a 10x10 array with random values and find the minimum and maximum values (★☆☆) \n",
        "(**hint**: min, max)"
      ]
    },
    {
      "cell_type": "code",
      "execution_count": null,
      "metadata": {
        "id": "vUOKTROX2Ab8",
        "colab": {
          "base_uri": "https://localhost:8080/"
        },
        "outputId": "f870ad63-368b-495d-e2de-ff8670ae944b"
      },
      "outputs": [
        {
          "output_type": "stream",
          "name": "stdout",
          "text": [
            "[[3.37304991e-01 5.66718029e-01 9.49589276e-01 1.00762634e-01\n",
            "  1.48517508e-01 6.38814836e-02 2.23850268e-01 3.69017977e-02\n",
            "  6.85397480e-01 1.23969172e-01]\n",
            " [8.27798993e-01 4.05678216e-01 1.07115756e-01 6.53043970e-01\n",
            "  7.42592874e-01 5.54700486e-01 6.29835449e-01 1.61835996e-01\n",
            "  6.73129907e-01 5.56568755e-02]\n",
            " [5.02339786e-01 7.92481182e-01 7.22826305e-01 1.73118440e-01\n",
            "  4.85012583e-01 3.89937304e-01 2.99126967e-01 9.30356184e-01\n",
            "  4.96987433e-01 8.91615818e-01]\n",
            " [4.07756546e-01 6.58300386e-01 6.17402094e-01 6.77256446e-01\n",
            "  8.05389325e-01 7.30614372e-01 8.15329441e-02 7.56407230e-01\n",
            "  5.15700425e-01 4.15136820e-01]\n",
            " [7.77453623e-01 9.49869995e-01 6.88961799e-01 5.39636451e-01\n",
            "  4.54028704e-01 1.54678396e-01 8.69827189e-01 4.60689962e-01\n",
            "  6.85009663e-01 6.38681298e-01]\n",
            " [4.66391800e-01 6.15033464e-01 9.11893929e-01 3.69753572e-01\n",
            "  8.56015765e-01 7.09949466e-01 1.56318811e-01 6.47492716e-01\n",
            "  2.99035014e-01 7.22131489e-01]\n",
            " [4.40812847e-01 4.28763935e-01 3.98849904e-01 9.82308802e-01\n",
            "  8.75679283e-04 7.54140416e-01 9.16993428e-01 1.86836968e-01\n",
            "  9.75656851e-01 8.80006724e-01]\n",
            " [6.79539474e-01 6.00335112e-01 9.85090083e-01 5.55772206e-01\n",
            "  6.37810563e-01 5.82166144e-01 4.87174345e-01 5.74532208e-02\n",
            "  3.55922442e-02 4.68514259e-01]\n",
            " [5.73774609e-01 6.88119130e-01 5.73025023e-01 7.31188351e-02\n",
            "  8.74572619e-02 1.13286085e-01 6.17549551e-01 4.85239693e-01\n",
            "  7.19854222e-01 8.90275794e-01]\n",
            " [5.61476361e-01 7.66428609e-01 2.41089590e-01 4.26844052e-01\n",
            "  3.45776198e-01 4.78740514e-01 5.59473112e-02 2.28311364e-01\n",
            "  8.17911799e-01 9.00531752e-01]] \n",
            "\n",
            "(0.9850900834717897, '\\n') \n",
            "\n",
            "(0.000875679283436348, '\\n') \n",
            "\n"
          ]
        }
      ],
      "source": [
        "import numpy as np\n",
        "a=np.random.rand(10,10)\n",
        "print(a, '\\n')\n",
        "z=np.max(a), '\\n'\n",
        "print(z, '\\n')\n",
        "x=np.min(a), '\\n'\n",
        "print(x, '\\n')"
      ]
    },
    {
      "cell_type": "markdown",
      "metadata": {
        "id": "kFSywYtH2Ab8"
      },
      "source": [
        "#### 14. Create a random vector of size 30 and find the mean value (★☆☆) \n",
        "(**hint**: mean)"
      ]
    },
    {
      "cell_type": "code",
      "execution_count": null,
      "metadata": {
        "id": "cQ3R016O2Ab8",
        "colab": {
          "base_uri": "https://localhost:8080/"
        },
        "outputId": "d1adf918-a459-457d-b3b2-a533ff6ab91e"
      },
      "outputs": [
        {
          "output_type": "stream",
          "name": "stdout",
          "text": [
            "[0.91808312 0.12085266 0.41225187 0.00494473 0.39060298 0.47530915\n",
            " 0.12897432 0.52335356 0.78623692 0.36716644 0.32110128 0.3674841\n",
            " 0.65196272 0.17609764 0.2313264  0.41658396 0.52141    0.50659389\n",
            " 0.50443409 0.60880164 0.97731981 0.04214504 0.20943506 0.71807842\n",
            " 0.68997103 0.22735416 0.68588808 0.80163174 0.99140115 0.59792965] \n",
            "\n",
            "0.48987161733149903\n"
          ]
        }
      ],
      "source": [
        "import numpy as np\n",
        "a=np.random.random(30)\n",
        "print(a, '\\n')\n",
        "z=np.median(a)\n",
        "print(z)"
      ]
    },
    {
      "cell_type": "markdown",
      "metadata": {
        "id": "13ZMpv2U2Ab8"
      },
      "source": [
        "#### 15. Create a 2d array with 1 on the border and 0 inside (★☆☆) \n",
        "(**hint**: array\\[1:-1, 1:-1\\])"
      ]
    },
    {
      "cell_type": "code",
      "execution_count": null,
      "metadata": {
        "id": "r3rz7wFS2Ab8",
        "colab": {
          "base_uri": "https://localhost:8080/"
        },
        "outputId": "270379bb-d6e1-430c-bcff-b5114de024ce"
      },
      "outputs": [
        {
          "output_type": "stream",
          "name": "stdout",
          "text": [
            "[[1. 1. 1. 1.]\n",
            " [1. 0. 0. 1.]\n",
            " [1. 0. 0. 1.]\n",
            " [1. 1. 1. 1.]]\n"
          ]
        }
      ],
      "source": [
        "import numpy as np\n",
        "z=np.ones((4,4))\n",
        "z[1:-1, 1:-1]=0\n",
        "print(z)\n"
      ]
    },
    {
      "cell_type": "markdown",
      "metadata": {
        "id": "fdoFcupt2Ab8"
      },
      "source": [
        "#### 16. How to add a border (filled with 0's) around an existing array? (★☆☆) \n",
        "(**hint**: np.pad)"
      ]
    },
    {
      "cell_type": "code",
      "execution_count": null,
      "metadata": {
        "id": "fEtdcVLy2Ab8",
        "colab": {
          "base_uri": "https://localhost:8080/"
        },
        "outputId": "96c01fd9-c17d-4624-bcd4-4d5b83677c04"
      },
      "outputs": [
        {
          "output_type": "stream",
          "name": "stdout",
          "text": [
            "[[0. 0. 0. 0. 0. 0.]\n",
            " [0. 1. 1. 1. 1. 0.]\n",
            " [0. 1. 1. 1. 1. 0.]\n",
            " [0. 1. 1. 1. 1. 0.]\n",
            " [0. 1. 1. 1. 1. 0.]\n",
            " [0. 0. 0. 0. 0. 0.]]\n"
          ]
        }
      ],
      "source": [
        "import numpy as np\n",
        "z=np.ones((4,4))\n",
        "z=np.pad(z, pad_width=1, mode='constant', constant_values=0)\n",
        "print(z)"
      ]
    },
    {
      "cell_type": "markdown",
      "metadata": {
        "id": "VEfzeeLC2Ab8"
      },
      "source": [
        "#### 17. What is the result of the following expression? (★☆☆) \n",
        "(**hint**: NaN = not a number, inf = infinity)"
      ]
    },
    {
      "cell_type": "markdown",
      "metadata": {
        "id": "CMvhu6cc2Ab9"
      },
      "source": [
        "```python\n",
        "0 * np.nan\n",
        "np.nan == np.nan\n",
        "np.inf > np.nan\n",
        "np.nan - np.nan\n",
        "0.3 == 3 * 0.1\n",
        "```"
      ]
    },
    {
      "cell_type": "code",
      "execution_count": null,
      "metadata": {
        "id": "ieoVvA9z2Ab9"
      },
      "outputs": [],
      "source": [
        "import numpy as np\n"
      ]
    },
    {
      "cell_type": "markdown",
      "metadata": {
        "id": "nLYjWP1T2Ab9"
      },
      "source": [
        "#### 18. Create a 5x5 matrix with values 1,2,3,4 just below the diagonal (★☆☆) \n",
        "(**hint**: np.diag)"
      ]
    },
    {
      "cell_type": "code",
      "execution_count": null,
      "metadata": {
        "id": "Z9OtX15Q2Ab9",
        "colab": {
          "base_uri": "https://localhost:8080/"
        },
        "outputId": "b2f32087-0507-420b-e17d-5ae39d40d23d"
      },
      "outputs": [
        {
          "output_type": "stream",
          "name": "stdout",
          "text": [
            "[[1. 1. 1.]\n",
            " [1. 1. 1.]\n",
            " [1. 1. 1.]]\n"
          ]
        }
      ],
      "source": [
        "import numpy as np\n",
        "z=np.ones((3,3))\n",
        "print(z)"
      ]
    },
    {
      "cell_type": "markdown",
      "metadata": {
        "id": "W3YqwNls2Ab9"
      },
      "source": [
        "#### 19. Create a 8x8 matrix and fill it with a checkerboard pattern (★☆☆) \n",
        "(**hint**: array\\[::2\\])"
      ]
    },
    {
      "cell_type": "code",
      "execution_count": null,
      "metadata": {
        "id": "uYxRZORg2Ab9",
        "colab": {
          "base_uri": "https://localhost:8080/"
        },
        "outputId": "96c3449b-de17-44a8-be37-5d6a9921e4a9"
      },
      "outputs": [
        {
          "output_type": "stream",
          "name": "stdout",
          "text": [
            "[[0 1 0 1 0 1 0 1]\n",
            " [1 0 1 0 1 0 1 0]\n",
            " [0 1 0 1 0 1 0 1]\n",
            " [1 0 1 0 1 0 1 0]\n",
            " [0 1 0 1 0 1 0 1]\n",
            " [1 0 1 0 1 0 1 0]\n",
            " [0 1 0 1 0 1 0 1]\n",
            " [1 0 1 0 1 0 1 0]]\n"
          ]
        }
      ],
      "source": [
        "import numpy as np\n",
        "z=np.ones((3,3))\n",
        "z=np.zeros((8,8), dtype=int)\n",
        "z[1::2,::2]=1\n",
        "z[::2,1::2]=1\n",
        "print(z)"
      ]
    },
    {
      "cell_type": "markdown",
      "metadata": {
        "id": "eres1ELK2Ab-"
      },
      "source": [
        "#### 20. Consider a (6,7,8) shape array, what is the index (x,y,z) of the 100th element? \n",
        "(**hint**: np.unravel_index)"
      ]
    },
    {
      "cell_type": "code",
      "execution_count": null,
      "metadata": {
        "id": "ZSsZAiuZ2Ab-",
        "colab": {
          "base_uri": "https://localhost:8080/"
        },
        "outputId": "c0cc602b-6b6d-4557-a5ab-86641aaf383e"
      },
      "outputs": [
        {
          "output_type": "stream",
          "name": "stdout",
          "text": [
            "(1, 5, 3)\n"
          ]
        }
      ],
      "source": [
        "import numpy as np\n",
        "\n",
        "x=np.unravel_index(99,(6,7,8))\n",
        "print(x)"
      ]
    },
    {
      "cell_type": "markdown",
      "metadata": {
        "id": "DgeyF79e2Ab-"
      },
      "source": [
        "#### 21. Create a checkerboard 8x8 matrix using the tile function (★☆☆) \n",
        "(**hint**: np.tile)"
      ]
    },
    {
      "cell_type": "code",
      "execution_count": null,
      "metadata": {
        "id": "DiaF0WXA2Ab-",
        "colab": {
          "base_uri": "https://localhost:8080/"
        },
        "outputId": "95282cfc-1350-408e-8246-ec9f561e08ce"
      },
      "outputs": [
        {
          "output_type": "stream",
          "name": "stdout",
          "text": [
            "\n",
            " [[0 1 0 1 0 1 0 1]\n",
            " [0 1 0 1 0 1 0 1]\n",
            " [0 1 0 1 0 1 0 1]\n",
            " [0 1 0 1 0 1 0 1]\n",
            " [0 1 0 1 0 1 0 1]\n",
            " [0 1 0 1 0 1 0 1]\n",
            " [0 1 0 1 0 1 0 1]\n",
            " [0 1 0 1 0 1 0 1]]\n"
          ]
        }
      ],
      "source": [
        "import numpy as np\n",
        "x= np.arange((2))\n",
        "y=8\n",
        "z=4\n",
        "m=(8,4)\n",
        "print('\\n', np.tile(x,m))"
      ]
    },
    {
      "cell_type": "markdown",
      "metadata": {
        "id": "fzLOIW5q2Ab-"
      },
      "source": [
        "#### 22. Normalize a 5x5 random matrix (★☆☆) \n",
        "(**hint**: (x - min) / (max - min))"
      ]
    },
    {
      "cell_type": "code",
      "execution_count": null,
      "metadata": {
        "id": "LyCsGIsw2Ab-",
        "colab": {
          "base_uri": "https://localhost:8080/"
        },
        "outputId": "5b7d0fab-5173-45b2-e372-8674454cd056"
      },
      "outputs": [
        {
          "output_type": "stream",
          "name": "stdout",
          "text": [
            "[[0.23347959 0.17461285 0.25365442 0.45752052 0.01909707]\n",
            " [0.15821978 1.         0.98188327 0.72538198 0.27490086]\n",
            " [0.         0.95299115 0.65162344 0.36967945 0.45800187]\n",
            " [0.06193006 0.04198978 0.94956121 0.92392826 0.75230887]\n",
            " [0.23990584 0.21860586 0.7137274  0.06112027 0.07128687]]\n"
          ]
        }
      ],
      "source": [
        "import numpy as np\n",
        "x = np.random.random((5,5))\n",
        "max, min= x.max(), x.min()\n",
        "x=(x-min)/(max-min)\n",
        "print(x)"
      ]
    },
    {
      "cell_type": "markdown",
      "metadata": {
        "id": "9J12dAkl2Ab-"
      },
      "source": [
        "#### 23. Create a custom dtype that describes a color as four unsigned bytes (RGBA) (★☆☆) \n",
        "(**hint**: np.dtype)"
      ]
    },
    {
      "cell_type": "code",
      "execution_count": null,
      "metadata": {
        "collapsed": true,
        "id": "d00qMvQL2Ab-",
        "colab": {
          "base_uri": "https://localhost:8080/"
        },
        "outputId": "48ef597b-904c-4cf1-ce90-aa338b89fab3"
      },
      "outputs": [
        {
          "output_type": "stream",
          "name": "stdout",
          "text": [
            "[('R', 'u1'), ('G', 'u1'), ('B', 'u1'), ('A', 'u1')]\n"
          ]
        }
      ],
      "source": [
        "import numpy as np\n",
        "x=np.dtype([('R', np.ubyte),\n",
        "            ('G', np.ubyte),\n",
        "            ('B', np.ubyte),\n",
        "            ('A', np.ubyte)])\n",
        "print(x)"
      ]
    },
    {
      "cell_type": "markdown",
      "metadata": {
        "id": "bbUvTYxk2Ab_"
      },
      "source": [
        "#### 24. Multiply a 5x3 matrix by a 3x2 matrix (real matrix product) (★☆☆) \n",
        "(**hint**: np.dot | @)"
      ]
    },
    {
      "cell_type": "code",
      "execution_count": null,
      "metadata": {
        "id": "jwcGhG9m2Ab_",
        "colab": {
          "base_uri": "https://localhost:8080/"
        },
        "outputId": "3578dd1d-0564-472e-afcd-aadf70ebbc46"
      },
      "outputs": [
        {
          "output_type": "stream",
          "name": "stdout",
          "text": [
            "[[0.3552181  0.81792448]\n",
            " [0.72191258 1.05029364]\n",
            " [0.26773617 0.83364067]\n",
            " [0.05635186 0.11935576]\n",
            " [0.80541837 1.39736774]] \n",
            "\n",
            "[[0.3552181  0.81792448]\n",
            " [0.72191258 1.05029364]\n",
            " [0.26773617 0.83364067]\n",
            " [0.05635186 0.11935576]\n",
            " [0.80541837 1.39736774]]\n"
          ]
        }
      ],
      "source": [
        "import numpy as np\n",
        "x= np.random.random((5,3))\n",
        "y= np.random.random((3,2))\n",
        "res=np.dot(x,y)\n",
        "print(res, '\\n')\n",
        "res1= x@y\n",
        "print(res1)"
      ]
    },
    {
      "cell_type": "markdown",
      "metadata": {
        "id": "9zbfoxS72Ab_"
      },
      "source": [
        "#### 25. Given a 1D array, negate all elements which are between 3 and 8, in place. (★☆☆) \n",
        "(**hint**: >, <=)"
      ]
    },
    {
      "cell_type": "code",
      "execution_count": null,
      "metadata": {
        "id": "0AzopWqI2Ab_",
        "colab": {
          "base_uri": "https://localhost:8080/"
        },
        "outputId": "4eca516a-adc5-48a9-a99a-9aea643a1138"
      },
      "outputs": [
        {
          "output_type": "stream",
          "name": "stdout",
          "text": [
            "[ 0  1  2  3 -4 -5 -6 -7  8  9 10]\n"
          ]
        }
      ],
      "source": [
        "import numpy as np\n",
        "x= np.arange(11)\n",
        "x[(3<x) & (x<8)]*= -1\n",
        "print(x)"
      ]
    },
    {
      "cell_type": "markdown",
      "metadata": {
        "id": "xLQZtJl42Ab_"
      },
      "source": [
        "#### 26. What is the output of the following script? (★☆☆) \n",
        "(**hint**: np.sum)"
      ]
    },
    {
      "cell_type": "markdown",
      "metadata": {
        "id": "LSZpKfG22Ab_"
      },
      "source": [
        "```python\n",
        "# Author: Jake VanderPlas\n",
        "\n",
        "print(sum(range(5),-1))\n",
        "from numpy import *\n",
        "print(sum(range(5),-1))\n",
        "```"
      ]
    },
    {
      "cell_type": "code",
      "execution_count": null,
      "metadata": {
        "id": "HScwwPw22Ab_",
        "colab": {
          "base_uri": "https://localhost:8080/"
        },
        "outputId": "f00851ef-632a-46c9-a13e-1f4a88d43576"
      },
      "outputs": [
        {
          "output_type": "stream",
          "name": "stdout",
          "text": [
            "10\n"
          ]
        }
      ],
      "source": [
        "import numpy as np\n",
        "x=np.sum(range(5),-1)\n",
        "print(x)"
      ]
    },
    {
      "cell_type": "markdown",
      "metadata": {
        "id": "SzaIu9rH2Ab_"
      },
      "source": [
        "#### 27. Consider an integer vector Z, which of these expressions are legal? (★☆☆)"
      ]
    },
    {
      "cell_type": "markdown",
      "metadata": {
        "id": "TV7XqAoY2Ab_"
      },
      "source": [
        "```python\n",
        "Z**Z\n",
        "2 << Z >> 2\n",
        "Z <- Z\n",
        "1j*Z\n",
        "Z/1/1\n",
        "Z<Z>Z\n",
        "```"
      ]
    },
    {
      "cell_type": "code",
      "execution_count": null,
      "metadata": {
        "id": "96aIju_f2AcC",
        "colab": {
          "base_uri": "https://localhost:8080/",
          "height": 304
        },
        "outputId": "6f35652e-47e3-499f-aa74-7534636f03b4"
      },
      "outputs": [
        {
          "output_type": "stream",
          "name": "stdout",
          "text": [
            "[        1         1         4        27       256      3125     46656\n",
            "    823543  16777216 387420489]\n",
            "[  0   1   2   4   8  16  32  64 128 256]\n",
            "[False False False False False False False False False False]\n",
            "[0.+0.j 0.+1.j 0.+2.j 0.+3.j 0.+4.j 0.+5.j 0.+6.j 0.+7.j 0.+8.j 0.+9.j]\n",
            "[0. 1. 2. 3. 4. 5. 6. 7. 8. 9.]\n"
          ]
        },
        {
          "output_type": "error",
          "ename": "ValueError",
          "evalue": "ignored",
          "traceback": [
            "\u001b[0;31m---------------------------------------------------------------------------\u001b[0m",
            "\u001b[0;31mValueError\u001b[0m                                Traceback (most recent call last)",
            "\u001b[0;32m<ipython-input-28-6706601b3890>\u001b[0m in \u001b[0;36m<module>\u001b[0;34m()\u001b[0m\n\u001b[1;32m      6\u001b[0m \u001b[0mprint\u001b[0m\u001b[0;34m(\u001b[0m\u001b[0;36m1j\u001b[0m\u001b[0;34m*\u001b[0m\u001b[0mz\u001b[0m\u001b[0;34m)\u001b[0m\u001b[0;34m\u001b[0m\u001b[0;34m\u001b[0m\u001b[0m\n\u001b[1;32m      7\u001b[0m \u001b[0mprint\u001b[0m\u001b[0;34m(\u001b[0m\u001b[0mz\u001b[0m\u001b[0;34m/\u001b[0m\u001b[0;36m1\u001b[0m\u001b[0;34m/\u001b[0m\u001b[0;36m1\u001b[0m\u001b[0;34m)\u001b[0m\u001b[0;34m\u001b[0m\u001b[0;34m\u001b[0m\u001b[0m\n\u001b[0;32m----> 8\u001b[0;31m \u001b[0mprint\u001b[0m\u001b[0;34m(\u001b[0m\u001b[0mz\u001b[0m\u001b[0;34m<\u001b[0m\u001b[0mz\u001b[0m\u001b[0;34m>\u001b[0m\u001b[0mz\u001b[0m\u001b[0;34m)\u001b[0m\u001b[0;34m\u001b[0m\u001b[0;34m\u001b[0m\u001b[0m\n\u001b[0m",
            "\u001b[0;31mValueError\u001b[0m: The truth value of an array with more than one element is ambiguous. Use a.any() or a.all()"
          ]
        }
      ],
      "source": [
        "import numpy as np\n",
        "z=np.arange(10)\n",
        "print(z**z)\n",
        "print(2<<z>>2)\n",
        "print(z<-z)\n",
        "print(1j*z)\n",
        "print(z/1/1)\n",
        "print(z<z>z)"
      ]
    },
    {
      "cell_type": "markdown",
      "metadata": {
        "id": "5aKHPAWj2AcC"
      },
      "source": [
        "#### 28. What are the result of the following expressions?"
      ]
    },
    {
      "cell_type": "markdown",
      "metadata": {
        "id": "wBj3Ra8M2AcD"
      },
      "source": [
        "```python\n",
        "np.array(0) / np.array(0)\n",
        "np.array(0) // np.array(0)\n",
        "np.array([np.nan]).astype(int).astype(float)\n",
        "```"
      ]
    },
    {
      "cell_type": "code",
      "execution_count": null,
      "metadata": {
        "id": "-ZnopmUc2AcD",
        "colab": {
          "base_uri": "https://localhost:8080/"
        },
        "outputId": "b6be53ec-9375-4bf0-9fc4-9889bbd9eec4"
      },
      "outputs": [
        {
          "output_type": "stream",
          "name": "stdout",
          "text": [
            "nan\n",
            "0\n",
            "[-9.22337204e+18]\n"
          ]
        },
        {
          "output_type": "stream",
          "name": "stderr",
          "text": [
            "/usr/local/lib/python3.7/dist-packages/ipykernel_launcher.py:5: RuntimeWarning: invalid value encountered in true_divide\n",
            "  \"\"\"\n",
            "/usr/local/lib/python3.7/dist-packages/ipykernel_launcher.py:6: RuntimeWarning: divide by zero encountered in floor_divide\n",
            "  \n"
          ]
        }
      ],
      "source": [
        "import numpy as np\n",
        "x=np.array(0)\n",
        "y=np.array(0)\n",
        "z=np.array([np.nan]).astype(int).astype(float)\n",
        "print(x/y)\n",
        "print(x//y)\n",
        "print(z)"
      ]
    },
    {
      "cell_type": "markdown",
      "metadata": {
        "id": "sCe-qEL52AcD"
      },
      "source": [
        "#### 29. How to round away from zero a float array ? (★☆☆) \n",
        "(**hint**: np.uniform, np.copysign, np.ceil, np.abs)"
      ]
    },
    {
      "cell_type": "code",
      "execution_count": null,
      "metadata": {
        "id": "zyk8bnUL2AcD",
        "colab": {
          "base_uri": "https://localhost:8080/"
        },
        "outputId": "1af0ad52-4282-49c6-d095-6116870dcd26"
      },
      "outputs": [
        {
          "output_type": "stream",
          "name": "stdout",
          "text": [
            "[[0.98610438 0.41704823]\n",
            " [0.87084839 0.58380217]]\n",
            "[[1. 1.]\n",
            " [1. 1.]]\n",
            "[[0.98610438 0.41704823]\n",
            " [0.87084839 0.58380217]]\n"
          ]
        }
      ],
      "source": [
        "import numpy as np\n",
        "x=np.random.random((2,2))\n",
        "print(x)\n",
        "a=np.ceil(x)\n",
        "print(a)\n",
        "b=np.abs(x)\n",
        "print(b)"
      ]
    },
    {
      "cell_type": "markdown",
      "metadata": {
        "id": "_RrjJbgB2AcD"
      },
      "source": [
        "#### 30. How to find common values between two arrays? (★☆☆) \n",
        "(**hint**: np.intersect1d)"
      ]
    },
    {
      "cell_type": "code",
      "execution_count": null,
      "metadata": {
        "id": "S71mrtOA2AcD",
        "colab": {
          "base_uri": "https://localhost:8080/"
        },
        "outputId": "d04ea6b0-23a3-466b-bd7e-94f45f9aa939"
      },
      "outputs": [
        {
          "output_type": "stream",
          "name": "stdout",
          "text": [
            "[0 1 2 3 4 5 6 7 8 9] \n",
            "\n",
            "[2 3 4 5 6 7] \n",
            "\n",
            "[2 3 4 5 6 7]\n"
          ]
        }
      ],
      "source": [
        "import numpy as np\n",
        "x=np.arange(10)\n",
        "y=np.arange(2,8)\n",
        "print(x, '\\n')\n",
        "print(y, '\\n')\n",
        "z=np.intersect1d(x,y)\n",
        "print(z,)"
      ]
    },
    {
      "cell_type": "markdown",
      "metadata": {
        "id": "b4ggSuXn2AcD"
      },
      "source": [
        "#### 31. How to ignore all numpy warnings (not recommended)? (★☆☆) \n",
        "(**hint**: np.seterr, np.errstate)"
      ]
    },
    {
      "cell_type": "code",
      "execution_count": null,
      "metadata": {
        "id": "9Ufw5RDN2AcD",
        "colab": {
          "base_uri": "https://localhost:8080/",
          "height": 217
        },
        "outputId": "b96c5dc8-f285-4492-d564-02fcf180a61e"
      },
      "outputs": [
        {
          "output_type": "error",
          "ename": "ValueError",
          "evalue": "ignored",
          "traceback": [
            "\u001b[0;31m---------------------------------------------------------------------------\u001b[0m",
            "\u001b[0;31mValueError\u001b[0m                                Traceback (most recent call last)",
            "\u001b[0;32m<ipython-input-15-52085f03b653>\u001b[0m in \u001b[0;36m<module>\u001b[0;34m()\u001b[0m\n\u001b[1;32m      1\u001b[0m \u001b[0;32mimport\u001b[0m \u001b[0mnumpy\u001b[0m \u001b[0;32mas\u001b[0m \u001b[0mnp\u001b[0m\u001b[0;34m\u001b[0m\u001b[0;34m\u001b[0m\u001b[0m\n\u001b[0;32m----> 2\u001b[0;31m \u001b[0mx\u001b[0m\u001b[0;34m=\u001b[0m\u001b[0mnp\u001b[0m\u001b[0;34m.\u001b[0m\u001b[0mrandom\u001b[0m\u001b[0;34m.\u001b[0m\u001b[0mrandom\u001b[0m\u001b[0;34m(\u001b[0m\u001b[0;36m100\u001b[0m\u001b[0;34m)\u001b[0m\u001b[0;34m.\u001b[0m\u001b[0mreshape\u001b[0m\u001b[0;34m(\u001b[0m\u001b[0;36m5\u001b[0m\u001b[0;34m,\u001b[0m\u001b[0;36m5\u001b[0m\u001b[0;34m,\u001b[0m\u001b[0;36m5\u001b[0m\u001b[0;34m)\u001b[0m \u001b[0;34m*\u001b[0m \u001b[0mnp\u001b[0m\u001b[0;34m.\u001b[0m\u001b[0mnan\u001b[0m\u001b[0;34m\u001b[0m\u001b[0;34m\u001b[0m\u001b[0m\n\u001b[0m\u001b[1;32m      3\u001b[0m \u001b[0mnp\u001b[0m\u001b[0;34m.\u001b[0m\u001b[0mseterr\u001b[0m\u001b[0;34m(\u001b[0m\u001b[0mall\u001b[0m\u001b[0;34m=\u001b[0m\u001b[0;34m'ignore'\u001b[0m\u001b[0;34m)\u001b[0m\u001b[0;34m\u001b[0m\u001b[0;34m\u001b[0m\u001b[0m\n\u001b[1;32m      4\u001b[0m \u001b[0mprint\u001b[0m\u001b[0;34m(\u001b[0m\u001b[0mx\u001b[0m\u001b[0;34m)\u001b[0m\u001b[0;34m\u001b[0m\u001b[0;34m\u001b[0m\u001b[0m\n",
            "\u001b[0;31mValueError\u001b[0m: cannot reshape array of size 100 into shape (5,5,5)"
          ]
        }
      ],
      "source": [
        "import numpy as np\n",
        "x=np.random.random(100).reshape(5,5,5) * np.nan\n",
        "np.seterr(all='ignore')\n",
        "print(x)"
      ]
    },
    {
      "cell_type": "markdown",
      "metadata": {
        "id": "Oqn6Cj0N2AcE"
      },
      "source": [
        "#### 32. Is the following expressions true? (★☆☆) \n",
        "(**hint**: imaginary number)"
      ]
    },
    {
      "cell_type": "markdown",
      "metadata": {
        "id": "XePhMVyu2AcE"
      },
      "source": [
        "```python\n",
        "np.sqrt(-1) == np.emath.sqrt(-1)\n",
        "```"
      ]
    },
    {
      "cell_type": "code",
      "execution_count": null,
      "metadata": {
        "id": "dXYS2ETD2AcE",
        "colab": {
          "base_uri": "https://localhost:8080/"
        },
        "outputId": "24172aa9-3b55-48d3-b409-43c896a32456"
      },
      "outputs": [
        {
          "output_type": "stream",
          "name": "stdout",
          "text": [
            "False\n"
          ]
        }
      ],
      "source": [
        "import numpy as np\n",
        "x=np.sqrt(-1)\n",
        "y=np.emath.sqrt(-1)\n",
        "print(x==y)"
      ]
    },
    {
      "cell_type": "markdown",
      "metadata": {
        "id": "2vMEswa72AcE"
      },
      "source": [
        "#### 33. How to get the dates of yesterday, today and tomorrow? (★☆☆) \n",
        "(**hint**: np.datetime64, np.timedelta64)"
      ]
    },
    {
      "cell_type": "code",
      "execution_count": null,
      "metadata": {
        "collapsed": true,
        "id": "ZlK8yuVl2AcE",
        "colab": {
          "base_uri": "https://localhost:8080/"
        },
        "outputId": "02d1a230-261c-498f-8ee0-3b52ec98343e"
      },
      "outputs": [
        {
          "output_type": "stream",
          "name": "stdout",
          "text": [
            "2022-08-10T10:08:34.323247\n",
            "2022-08-10T10:08:34.323247\n",
            "2022-08-10T10:08:34.323247\n"
          ]
        },
        {
          "output_type": "stream",
          "name": "stderr",
          "text": [
            "/usr/local/lib/python3.7/dist-packages/ipykernel_launcher.py:4: FutureWarning: The pandas.datetime class is deprecated and will be removed from pandas in a future version. Import from datetime module instead.\n",
            "  after removing the cwd from sys.path.\n"
          ]
        }
      ],
      "source": [
        "import numpy as np\n",
        "import pandas as pd\n",
        "from datetime import datetime, timedelta\n",
        "x=pd.datetime.now()\n",
        "a=np.array(np.datetime64(x))\n",
        "y=x-timedelta()\n",
        "b=np.array(np.datetime64(y))\n",
        "z=x+timedelta()\n",
        "c=np.array(np.datetime64(z))\n",
        "print(a)\n",
        "print(b)\n",
        "print(c)"
      ]
    },
    {
      "cell_type": "markdown",
      "metadata": {
        "id": "9dE_Sq6-2AcE"
      },
      "source": [
        "#### 34. How to get all the dates corresponding to the month of July 2016? (★★☆) \n",
        "(**hint**: np.arange(dtype=datetime64\\['D'\\]))"
      ]
    },
    {
      "cell_type": "code",
      "execution_count": null,
      "metadata": {
        "id": "i74Ms6w22AcE",
        "colab": {
          "base_uri": "https://localhost:8080/"
        },
        "outputId": "e4e9a58f-c6b3-4644-b2e8-49029c1593b0"
      },
      "outputs": [
        {
          "output_type": "stream",
          "name": "stdout",
          "text": [
            "['2016-07-01' '2016-07-02' '2016-07-03' '2016-07-04' '2016-07-05'\n",
            " '2016-07-06' '2016-07-07' '2016-07-08' '2016-07-09' '2016-07-10'\n",
            " '2016-07-11' '2016-07-12' '2016-07-13' '2016-07-14' '2016-07-15'\n",
            " '2016-07-16' '2016-07-17' '2016-07-18' '2016-07-19' '2016-07-20'\n",
            " '2016-07-21' '2016-07-22' '2016-07-23' '2016-07-24' '2016-07-25'\n",
            " '2016-07-26' '2016-07-27' '2016-07-28' '2016-07-29' '2016-07-30'\n",
            " '2016-07-31']\n"
          ]
        }
      ],
      "source": [
        "import numpy as np\n",
        "x=np.arange('2016-07','2016-08', dtype='datetime64[D]')\n",
        "print(x)"
      ]
    },
    {
      "cell_type": "markdown",
      "metadata": {
        "id": "Cqnp4_nY2AcE"
      },
      "source": [
        "#### 35. How to compute ((A+B)\\*(-A/2)) in place (without copy)? (★★☆) \n",
        "(**hint**: np.add(out=), np.negative(out=), np.multiply(out=), np.divide(out=))"
      ]
    },
    {
      "cell_type": "code",
      "execution_count": null,
      "metadata": {
        "id": "2oBpJKtX2AcF",
        "colab": {
          "base_uri": "https://localhost:8080/"
        },
        "outputId": "78ee9f24-7119-44bf-a12c-867217df67d1"
      },
      "outputs": [
        {
          "output_type": "stream",
          "name": "stdout",
          "text": [
            "Enter the Value:10\n",
            "Enter the Value:12\n",
            "-4840.0\n"
          ]
        }
      ],
      "source": [
        "import numpy as np\n",
        "A=int(input('Enter the Value:'))\n",
        "B=int(input('Enter the Value:'))\n",
        "B=np.add(A,B)\n",
        "A=np.multiply(A,B)\n",
        "A=np.negative(A)\n",
        "A=np.divide(A,2)\n",
        "z=((A+B)*(-A/2))\n",
        "print(z)"
      ]
    },
    {
      "cell_type": "markdown",
      "metadata": {
        "id": "FaONuqwO2AcF"
      },
      "source": [
        "#### 36. Extract the integer part of a random array using 5 different methods (★★☆) \n",
        "(**hint**: %, np.floor, np.ceil, astype, np.trunc)"
      ]
    },
    {
      "cell_type": "code",
      "execution_count": null,
      "metadata": {
        "id": "Halp4rDV2AcF",
        "colab": {
          "base_uri": "https://localhost:8080/"
        },
        "outputId": "e2955360-900c-4864-e764-21d9948a4932"
      },
      "outputs": [
        {
          "output_type": "stream",
          "name": "stdout",
          "text": [
            "[0. 0. 0. 0. 0. 0. 0. 0.]\n",
            "[1. 1. 1. 1. 1. 1. 1. 1.]\n",
            "[0 0 0 0 0 0 0 0]\n",
            "[0. 0. 0. 0. 0. 0. 0. 0.]\n",
            "[0. 0. 0. 0. 0. 0. 0. 0.]\n"
          ]
        }
      ],
      "source": [
        "import numpy as np\n",
        "x=np.random.random(8)\n",
        "print(np.floor(x))\n",
        "print(np.ceil(x))\n",
        "print(x.astype(int))\n",
        "print(np.trunc(x))\n",
        "print(x-x%1)"
      ]
    },
    {
      "cell_type": "markdown",
      "metadata": {
        "id": "Hj6QgHlI2AcF"
      },
      "source": [
        "#### 37. Create a 5x5 matrix with row values ranging from 0 to 4 (★★☆) \n",
        "(**hint**: np.arange)"
      ]
    },
    {
      "cell_type": "code",
      "execution_count": null,
      "metadata": {
        "id": "TvZn6_kQ2AcF",
        "colab": {
          "base_uri": "https://localhost:8080/"
        },
        "outputId": "c5e89158-02d9-43f9-c446-2848595bcf18"
      },
      "outputs": [
        {
          "output_type": "stream",
          "name": "stdout",
          "text": [
            "\n",
            " [[0 1 2 3 4 0 1 2 3 4 0 1 2 3 4 0 1 2 3 4 0 1 2 3 4]]\n"
          ]
        }
      ],
      "source": [
        "import numpy as np\n",
        "x= np.arange(0,5)\n",
        "y=5\n",
        "z=1\n",
        "m=(1,5)\n",
        "print('\\n', np.tile(x,m))"
      ]
    },
    {
      "cell_type": "markdown",
      "metadata": {
        "id": "h0RYvtzB2AcF"
      },
      "source": [
        "#### 38. Consider a generator function that generates 10 integers and use it to build an array (★☆☆) \n",
        "(**hint**: np.fromiter)"
      ]
    },
    {
      "cell_type": "code",
      "execution_count": null,
      "metadata": {
        "id": "L45_hoj52AcF",
        "colab": {
          "base_uri": "https://localhost:8080/"
        },
        "outputId": "02816ef9-0a52-43d7-c84b-5f4ed25383b0"
      },
      "outputs": [
        {
          "output_type": "stream",
          "name": "stdout",
          "text": [
            "[0. 1. 2. 3. 4. 5. 6. 7. 8. 9.]\n"
          ]
        }
      ],
      "source": [
        "def generate():\n",
        "    for x in range(10):\n",
        "        yield x\n",
        "Z = np.fromiter(generate(),dtype=float,count=-1)\n",
        "print(Z)"
      ]
    },
    {
      "cell_type": "markdown",
      "metadata": {
        "id": "elBw4Nl42AcF"
      },
      "source": [
        "#### 39. Create a vector of size 10 with values ranging from 0 to 1, both excluded (★★☆) \n",
        "(**hint**: np.linspace)"
      ]
    },
    {
      "cell_type": "code",
      "execution_count": null,
      "metadata": {
        "id": "9QKVKdMh2AcG",
        "colab": {
          "base_uri": "https://localhost:8080/"
        },
        "outputId": "63df2c40-a49c-4e20-b7df-df3d8732c11e"
      },
      "outputs": [
        {
          "output_type": "stream",
          "name": "stdout",
          "text": [
            "[0.09090909 0.18181818 0.27272727 0.36363636 0.45454545 0.54545455\n",
            " 0.63636364 0.72727273 0.81818182 0.90909091]\n"
          ]
        }
      ],
      "source": [
        "import numpy as np\n",
        "x=np.linspace(0,1,11, endpoint=False)[1:]\n",
        "print(x)"
      ]
    },
    {
      "cell_type": "markdown",
      "metadata": {
        "id": "R0QE0j1Y2AcG"
      },
      "source": [
        "#### 40. Create a random vector of size 10 and sort it (★★☆) \n",
        "(**hint**: sort)"
      ]
    },
    {
      "cell_type": "code",
      "execution_count": null,
      "metadata": {
        "id": "96Cwh_MU2AcG",
        "colab": {
          "base_uri": "https://localhost:8080/"
        },
        "outputId": "bdc8f235-55b7-4cdb-83d1-94fea7fc98c0"
      },
      "outputs": [
        {
          "output_type": "stream",
          "name": "stdout",
          "text": [
            "[0.02797859 0.17546013 0.23635843 0.28310047 0.28585181 0.45152362\n",
            " 0.53945326 0.59318489 0.64870025 0.7009667 ]\n"
          ]
        }
      ],
      "source": [
        "import numpy as np\n",
        "x=np.random.random(10)\n",
        "print(np.sort(x))"
      ]
    },
    {
      "cell_type": "markdown",
      "metadata": {
        "id": "islk-hwk2AcG"
      },
      "source": [
        "#### 41. How to sum a small array faster than np.sum? (★★☆) \n",
        "(**hint**: np.add.reduce)"
      ]
    },
    {
      "cell_type": "code",
      "execution_count": null,
      "metadata": {
        "id": "p1UW-dH82AcG",
        "colab": {
          "base_uri": "https://localhost:8080/"
        },
        "outputId": "50634adb-2a3f-4e20-b5c4-774996a7a2b2"
      },
      "outputs": [
        {
          "output_type": "stream",
          "name": "stdout",
          "text": [
            "45\n"
          ]
        }
      ],
      "source": [
        "import numpy as np\n",
        "x=np.arange(10)\n",
        "print(np.add.reduce(x))"
      ]
    },
    {
      "cell_type": "markdown",
      "metadata": {
        "id": "DkS6q8uB2AcG"
      },
      "source": [
        "#### 42. Consider two random array A and B, check if they are equal (★★☆) \n",
        "(**hint**: np.allclose, np.array\\_equal)"
      ]
    },
    {
      "cell_type": "code",
      "execution_count": null,
      "metadata": {
        "id": "h99tFyC32AcG",
        "colab": {
          "base_uri": "https://localhost:8080/"
        },
        "outputId": "982ba4f9-e293-4897-f838-9dab36fb331e"
      },
      "outputs": [
        {
          "output_type": "stream",
          "name": "stdout",
          "text": [
            "False\n"
          ]
        }
      ],
      "source": [
        "import numpy as np\n",
        "x=np.random.random(10)\n",
        "y=np.random.random(20)\n",
        "\n",
        "res=np.array_equal(x,y)\n",
        "print(res)"
      ]
    },
    {
      "cell_type": "markdown",
      "metadata": {
        "id": "6t9Pjyl12AcG"
      },
      "source": [
        "\n",
        "#### 43. Make an array immutable (read-only) (★★☆) \n",
        "(**hint**: flags.writeable)"
      ]
    },
    {
      "cell_type": "code",
      "execution_count": null,
      "metadata": {
        "id": "OlaRL8cF2AcH",
        "colab": {
          "base_uri": "https://localhost:8080/",
          "height": 200
        },
        "outputId": "90e31401-adab-49ed-acd3-62460ec568e6"
      },
      "outputs": [
        {
          "output_type": "error",
          "ename": "ValueError",
          "evalue": "ignored",
          "traceback": [
            "\u001b[0;31m---------------------------------------------------------------------------\u001b[0m",
            "\u001b[0;31mValueError\u001b[0m                                Traceback (most recent call last)",
            "\u001b[0;32m<ipython-input-1-2347c16fb0d1>\u001b[0m in \u001b[0;36m<module>\u001b[0;34m()\u001b[0m\n\u001b[1;32m      2\u001b[0m \u001b[0mx\u001b[0m\u001b[0;34m=\u001b[0m\u001b[0mnp\u001b[0m\u001b[0;34m.\u001b[0m\u001b[0mones\u001b[0m\u001b[0;34m(\u001b[0m\u001b[0;36m10\u001b[0m\u001b[0;34m)\u001b[0m\u001b[0;34m\u001b[0m\u001b[0;34m\u001b[0m\u001b[0m\n\u001b[1;32m      3\u001b[0m \u001b[0mx\u001b[0m\u001b[0;34m.\u001b[0m\u001b[0mflags\u001b[0m\u001b[0;34m.\u001b[0m\u001b[0mwriteable\u001b[0m\u001b[0;34m=\u001b[0m \u001b[0;32mFalse\u001b[0m\u001b[0;34m\u001b[0m\u001b[0;34m\u001b[0m\u001b[0m\n\u001b[0;32m----> 4\u001b[0;31m \u001b[0mx\u001b[0m\u001b[0;34m[\u001b[0m\u001b[0;36m0\u001b[0m\u001b[0;34m]\u001b[0m\u001b[0;34m=\u001b[0m\u001b[0;36m1\u001b[0m\u001b[0;34m\u001b[0m\u001b[0;34m\u001b[0m\u001b[0m\n\u001b[0m",
            "\u001b[0;31mValueError\u001b[0m: assignment destination is read-only"
          ]
        }
      ],
      "source": [
        "import numpy as np\n",
        "x=np.ones(10)\n",
        "x.flags.writeable= False\n",
        "x[0]=1"
      ]
    },
    {
      "cell_type": "markdown",
      "metadata": {
        "id": "kPjYWh4s2AcH"
      },
      "source": [
        "#### 44. Consider a random 10x2 matrix representing cartesian coordinates, convert them to polar coordinates (★★☆) \n",
        "(**hint**: np.sqrt, np.arctan2)"
      ]
    },
    {
      "cell_type": "code",
      "execution_count": null,
      "metadata": {
        "id": "JXyH-TZK2AcH",
        "colab": {
          "base_uri": "https://localhost:8080/"
        },
        "outputId": "d6d3bb16-d5a6-41b6-d6e7-b474fcf9c9be"
      },
      "outputs": [
        {
          "output_type": "stream",
          "name": "stdout",
          "text": [
            "[[0.95468591 0.02222651]\n",
            " [0.76413699 0.21285062]\n",
            " [0.44831037 0.65196135]\n",
            " [0.85623061 0.46472774]\n",
            " [0.16704154 0.2003782 ]\n",
            " [0.54523477 0.50662881]\n",
            " [0.75040451 0.42610412]\n",
            " [0.32942682 0.8076776 ]\n",
            " [0.00489927 0.53741224]\n",
            " [0.36110641 0.85515289]] \n",
            "\n",
            "[0.95494461 0.79322804 0.79122423 0.97421904 0.26087219 0.74428067\n",
            " 0.86294359 0.87227583 0.53743457 0.92826952] \n",
            "\n",
            "[0.02327729 0.27166393 0.96841844 0.4972677  0.87588223 0.74871219\n",
            " 0.51643108 1.18352461 1.56168018 1.17123929]\n"
          ]
        }
      ],
      "source": [
        "import numpy as np\n",
        "x=np.random.random((10,2))\n",
        "print(x, '\\n')\n",
        "y,z=x[:,0],x[:,1]\n",
        "a=np.sqrt(y**2+z**2)\n",
        "b=np.arctan2(z,y)\n",
        "print(a,'\\n')\n",
        "print(b)"
      ]
    },
    {
      "cell_type": "markdown",
      "metadata": {
        "id": "MiE3Wc5B2AcH"
      },
      "source": [
        "#### 45. Create random vector of size 10 and replace the maximum value by 0 (★★☆) \n",
        "(**hint**: argmax)"
      ]
    },
    {
      "cell_type": "code",
      "execution_count": null,
      "metadata": {
        "id": "Sm3muLwb2AcH",
        "colab": {
          "base_uri": "https://localhost:8080/"
        },
        "outputId": "96098a83-02ad-47d7-9b6d-c0a4fbda1780"
      },
      "outputs": [
        {
          "output_type": "stream",
          "name": "stdout",
          "text": [
            "[0.02239654 0.57111423 0.         0.62242542 0.5955595  0.24320196\n",
            " 0.64519512 0.46257403 0.75945304 0.32531123]\n"
          ]
        }
      ],
      "source": [
        "import numpy as np\n",
        "x=np.random.random(10)\n",
        "x[x.argmax()]=0\n",
        "print(x)"
      ]
    },
    {
      "cell_type": "markdown",
      "metadata": {
        "id": "Oguqm9Ov2AcH"
      },
      "source": [
        "#### 46. Create a structured array with `x` and `y` coordinates covering the \\[0,1\\]x\\[0,1\\] area (★★☆) \n",
        "(**hint**: np.meshgrid)"
      ]
    },
    {
      "cell_type": "code",
      "execution_count": null,
      "metadata": {
        "id": "cvEaiKBR2AcH",
        "colab": {
          "base_uri": "https://localhost:8080/",
          "height": 217
        },
        "outputId": "b2bde3d9-0ce9-4f16-d647-5f8efa3eead4"
      },
      "outputs": [
        {
          "output_type": "error",
          "ename": "TypeError",
          "evalue": "ignored",
          "traceback": [
            "\u001b[0;31m---------------------------------------------------------------------------\u001b[0m",
            "\u001b[0;31mTypeError\u001b[0m                                 Traceback (most recent call last)",
            "\u001b[0;32m<ipython-input-10-12131e9097c1>\u001b[0m in \u001b[0;36m<module>\u001b[0;34m()\u001b[0m\n\u001b[1;32m      3\u001b[0m \u001b[0mx\u001b[0m\u001b[0;34m=\u001b[0m\u001b[0mnp\u001b[0m\u001b[0;34m.\u001b[0m\u001b[0mzeros\u001b[0m\u001b[0;34m(\u001b[0m\u001b[0;34m(\u001b[0m\u001b[0;36m10\u001b[0m\u001b[0;34m,\u001b[0m\u001b[0;36m10\u001b[0m\u001b[0;34m)\u001b[0m\u001b[0;34m)\u001b[0m\u001b[0;34m,\u001b[0m\u001b[0;34m[\u001b[0m\u001b[0;34m(\u001b[0m\u001b[0;34m'y'\u001b[0m\u001b[0;34m,\u001b[0m\u001b[0mfloat\u001b[0m\u001b[0;34m)\u001b[0m\u001b[0;34m,\u001b[0m\u001b[0;34m(\u001b[0m\u001b[0;34m'z'\u001b[0m\u001b[0;34m,\u001b[0m\u001b[0mfloat\u001b[0m\u001b[0;34m)\u001b[0m\u001b[0;34m]\u001b[0m\u001b[0;34m\u001b[0m\u001b[0;34m\u001b[0m\u001b[0m\n\u001b[1;32m      4\u001b[0m x['y'],x['z']=np.meshgrid(np.linspace(0,1,5),\n\u001b[0;32m----> 5\u001b[0;31m                           np.linspace(0,1,5))\n\u001b[0m\u001b[1;32m      6\u001b[0m \u001b[0mprint\u001b[0m\u001b[0;34m(\u001b[0m\u001b[0mx\u001b[0m\u001b[0;34m)\u001b[0m\u001b[0;34m\u001b[0m\u001b[0;34m\u001b[0m\u001b[0m\n",
            "\u001b[0;31mTypeError\u001b[0m: 'tuple' object does not support item assignment"
          ]
        }
      ],
      "source": [
        "import numpy as np\n",
        "from numpy.core.function_base import linspace\n",
        "x=np.zeros((10,10)),[('y',float),('z',float)]\n",
        "x['y'],x['z']=np.meshgrid(np.linspace(0,1,5),\n",
        "                          np.linspace(0,1,5))\n",
        "print(x)"
      ]
    },
    {
      "cell_type": "markdown",
      "metadata": {
        "id": "CeWXiXmm2AcH"
      },
      "source": [
        "####  47. Given two arrays, X and Y, construct the Cauchy matrix C (Cij =1/(xi - yj)) \n",
        "(**hint**: np.subtract.outer)"
      ]
    },
    {
      "cell_type": "code",
      "execution_count": null,
      "metadata": {
        "id": "T66DAAAt2AcH",
        "colab": {
          "base_uri": "https://localhost:8080/"
        },
        "outputId": "74cf32ab-7469-4afd-9482-0b1b6143ac24"
      },
      "outputs": [
        {
          "output_type": "stream",
          "name": "stdout",
          "text": [
            "[[-2.         -0.66666667 -0.4        -0.28571429 -0.22222222 -0.18181818\n",
            "  -0.15384615 -0.13333333 -0.11764706 -0.10526316]\n",
            " [ 2.         -2.         -0.66666667 -0.4        -0.28571429 -0.22222222\n",
            "  -0.18181818 -0.15384615 -0.13333333 -0.11764706]\n",
            " [ 0.66666667  2.         -2.         -0.66666667 -0.4        -0.28571429\n",
            "  -0.22222222 -0.18181818 -0.15384615 -0.13333333]\n",
            " [ 0.4         0.66666667  2.         -2.         -0.66666667 -0.4\n",
            "  -0.28571429 -0.22222222 -0.18181818 -0.15384615]\n",
            " [ 0.28571429  0.4         0.66666667  2.         -2.         -0.66666667\n",
            "  -0.4        -0.28571429 -0.22222222 -0.18181818]\n",
            " [ 0.22222222  0.28571429  0.4         0.66666667  2.         -2.\n",
            "  -0.66666667 -0.4        -0.28571429 -0.22222222]\n",
            " [ 0.18181818  0.22222222  0.28571429  0.4         0.66666667  2.\n",
            "  -2.         -0.66666667 -0.4        -0.28571429]\n",
            " [ 0.15384615  0.18181818  0.22222222  0.28571429  0.4         0.66666667\n",
            "   2.         -2.         -0.66666667 -0.4       ]\n",
            " [ 0.13333333  0.15384615  0.18181818  0.22222222  0.28571429  0.4\n",
            "   0.66666667  2.         -2.         -0.66666667]\n",
            " [ 0.11764706  0.13333333  0.15384615  0.18181818  0.22222222  0.28571429\n",
            "   0.4         0.66666667  2.         -2.        ]]\n"
          ]
        }
      ],
      "source": [
        "import numpy as np\n",
        "x=np.arange(10)\n",
        "z=x+0.5\n",
        "a=1/np.subtract.outer(x,z)\n",
        "print(a)"
      ]
    },
    {
      "cell_type": "markdown",
      "metadata": {
        "id": "AmoOnQcP2AcI"
      },
      "source": [
        "#### 48. Print the minimum and maximum representable value for each numpy scalar type (★★☆) \n",
        "(**hint**: np.iinfo, np.finfo, eps)"
      ]
    },
    {
      "cell_type": "code",
      "execution_count": null,
      "metadata": {
        "id": "3-H3oVGr2AcI",
        "colab": {
          "base_uri": "https://localhost:8080/",
          "height": 842
        },
        "outputId": "83174126-a276-43c3-d2a2-21fd87f3a09f"
      },
      "outputs": [
        {
          "output_type": "stream",
          "name": "stdout",
          "text": [
            "127 \n",
            "\n",
            "127 \n",
            "\n",
            "2147483647 \n",
            "\n",
            "2147483647 \n",
            "\n",
            "9223372036854775807 \n",
            "\n",
            "9223372036854775807 \n",
            "\n",
            "18446744073709551615 \n",
            "\n",
            "18446744073709551615 \n",
            "\n",
            "3.4028235e+38 \n",
            "\n",
            "-3.4028235e+38 \n",
            "\n",
            "1.1920929e-07 \n",
            "\n",
            "1.7976931348623157e+308 \n",
            "\n",
            "-1.7976931348623157e+308 \n",
            "\n",
            "2.220446049250313e-16 \n",
            "\n"
          ]
        },
        {
          "output_type": "error",
          "ename": "ValueError",
          "evalue": "ignored",
          "traceback": [
            "\u001b[0;31m---------------------------------------------------------------------------\u001b[0m",
            "\u001b[0;31mValueError\u001b[0m                                Traceback (most recent call last)",
            "\u001b[0;32m<ipython-input-17-c5155db09ccb>\u001b[0m in \u001b[0;36m<module>\u001b[0;34m()\u001b[0m\n\u001b[1;32m      4\u001b[0m   \u001b[0mprint\u001b[0m\u001b[0;34m(\u001b[0m\u001b[0mnp\u001b[0m\u001b[0;34m.\u001b[0m\u001b[0miinfo\u001b[0m\u001b[0;34m(\u001b[0m\u001b[0mdtype\u001b[0m\u001b[0;34m)\u001b[0m\u001b[0;34m.\u001b[0m\u001b[0mmax\u001b[0m\u001b[0;34m,\u001b[0m\u001b[0;34m'\\n'\u001b[0m\u001b[0;34m)\u001b[0m\u001b[0;34m\u001b[0m\u001b[0;34m\u001b[0m\u001b[0m\n\u001b[1;32m      5\u001b[0m \u001b[0;32mfor\u001b[0m \u001b[0mdtype\u001b[0m \u001b[0;32min\u001b[0m \u001b[0;34m[\u001b[0m\u001b[0mnp\u001b[0m\u001b[0;34m.\u001b[0m\u001b[0mfloat32\u001b[0m\u001b[0;34m,\u001b[0m \u001b[0mnp\u001b[0m\u001b[0;34m.\u001b[0m\u001b[0mfloat64\u001b[0m\u001b[0;34m,\u001b[0m\u001b[0;34m'\\n'\u001b[0m\u001b[0;34m]\u001b[0m\u001b[0;34m:\u001b[0m\u001b[0;34m\u001b[0m\u001b[0;34m\u001b[0m\u001b[0m\n\u001b[0;32m----> 6\u001b[0;31m   \u001b[0mprint\u001b[0m\u001b[0;34m(\u001b[0m\u001b[0mnp\u001b[0m\u001b[0;34m.\u001b[0m\u001b[0mfinfo\u001b[0m\u001b[0;34m(\u001b[0m\u001b[0mdtype\u001b[0m\u001b[0;34m)\u001b[0m\u001b[0;34m.\u001b[0m\u001b[0mmax\u001b[0m\u001b[0;34m,\u001b[0m\u001b[0;34m'\\n'\u001b[0m\u001b[0;34m)\u001b[0m\u001b[0;34m\u001b[0m\u001b[0;34m\u001b[0m\u001b[0m\n\u001b[0m\u001b[1;32m      7\u001b[0m   \u001b[0mprint\u001b[0m\u001b[0;34m(\u001b[0m\u001b[0mnp\u001b[0m\u001b[0;34m.\u001b[0m\u001b[0mfinfo\u001b[0m\u001b[0;34m(\u001b[0m\u001b[0mdtype\u001b[0m\u001b[0;34m)\u001b[0m\u001b[0;34m.\u001b[0m\u001b[0mmin\u001b[0m\u001b[0;34m,\u001b[0m\u001b[0;34m'\\n'\u001b[0m\u001b[0;34m)\u001b[0m\u001b[0;34m\u001b[0m\u001b[0;34m\u001b[0m\u001b[0m\n\u001b[1;32m      8\u001b[0m   \u001b[0mprint\u001b[0m\u001b[0;34m(\u001b[0m\u001b[0mnp\u001b[0m\u001b[0;34m.\u001b[0m\u001b[0mfinfo\u001b[0m\u001b[0;34m(\u001b[0m\u001b[0mdtype\u001b[0m\u001b[0;34m)\u001b[0m\u001b[0;34m.\u001b[0m\u001b[0meps\u001b[0m\u001b[0;34m,\u001b[0m\u001b[0;34m'\\n'\u001b[0m\u001b[0;34m)\u001b[0m\u001b[0;34m\u001b[0m\u001b[0;34m\u001b[0m\u001b[0m\n",
            "\u001b[0;32m/usr/local/lib/python3.7/dist-packages/numpy/core/getlimits.py\u001b[0m in \u001b[0;36m__new__\u001b[0;34m(cls, dtype)\u001b[0m\n\u001b[1;32m    396\u001b[0m             \u001b[0mdtype\u001b[0m \u001b[0;34m=\u001b[0m \u001b[0mnewdtype\u001b[0m\u001b[0;34m\u001b[0m\u001b[0;34m\u001b[0m\u001b[0m\n\u001b[1;32m    397\u001b[0m         \u001b[0;32mif\u001b[0m \u001b[0;32mnot\u001b[0m \u001b[0missubclass\u001b[0m\u001b[0;34m(\u001b[0m\u001b[0mdtype\u001b[0m\u001b[0;34m,\u001b[0m \u001b[0mnumeric\u001b[0m\u001b[0;34m.\u001b[0m\u001b[0minexact\u001b[0m\u001b[0;34m)\u001b[0m\u001b[0;34m:\u001b[0m\u001b[0;34m\u001b[0m\u001b[0;34m\u001b[0m\u001b[0m\n\u001b[0;32m--> 398\u001b[0;31m             \u001b[0;32mraise\u001b[0m \u001b[0mValueError\u001b[0m\u001b[0;34m(\u001b[0m\u001b[0;34m\"data type %r not inexact\"\u001b[0m \u001b[0;34m%\u001b[0m \u001b[0;34m(\u001b[0m\u001b[0mdtype\u001b[0m\u001b[0;34m)\u001b[0m\u001b[0;34m)\u001b[0m\u001b[0;34m\u001b[0m\u001b[0;34m\u001b[0m\u001b[0m\n\u001b[0m\u001b[1;32m    399\u001b[0m         \u001b[0mobj\u001b[0m \u001b[0;34m=\u001b[0m \u001b[0mcls\u001b[0m\u001b[0;34m.\u001b[0m\u001b[0m_finfo_cache\u001b[0m\u001b[0;34m.\u001b[0m\u001b[0mget\u001b[0m\u001b[0;34m(\u001b[0m\u001b[0mdtype\u001b[0m\u001b[0;34m,\u001b[0m \u001b[0;32mNone\u001b[0m\u001b[0;34m)\u001b[0m\u001b[0;34m\u001b[0m\u001b[0;34m\u001b[0m\u001b[0m\n\u001b[1;32m    400\u001b[0m         \u001b[0;32mif\u001b[0m \u001b[0mobj\u001b[0m \u001b[0;32mis\u001b[0m \u001b[0;32mnot\u001b[0m \u001b[0;32mNone\u001b[0m\u001b[0;34m:\u001b[0m\u001b[0;34m\u001b[0m\u001b[0;34m\u001b[0m\u001b[0m\n",
            "\u001b[0;31mValueError\u001b[0m: data type <class 'numpy.ulonglong'> not inexact"
          ]
        }
      ],
      "source": [
        "import numpy as np\n",
        "for dtype in [np.int8, np.int32, np.int64,'\\n']:\n",
        "  print(np.iinfo(dtype).max,'\\n')\n",
        "  print(np.iinfo(dtype).max,'\\n')\n",
        "for dtype in [np.float32, np.float64,'\\n']:\n",
        "  print(np.finfo(dtype).max,'\\n')\n",
        "  print(np.finfo(dtype).min,'\\n')\n",
        "  print(np.finfo(dtype).eps,'\\n')"
      ]
    },
    {
      "cell_type": "markdown",
      "metadata": {
        "id": "r4DFxmlD2AcI"
      },
      "source": [
        "#### 49. How to print all the values of an array? (★★☆) \n",
        "(**hint**: np.set\\_printoptions)"
      ]
    },
    {
      "cell_type": "code",
      "execution_count": null,
      "metadata": {
        "id": "UQ6Nq5cG2AcI",
        "colab": {
          "base_uri": "https://localhost:8080/"
        },
        "outputId": "01711826-431c-4f7f-c602-efee558c3adf"
      },
      "outputs": [
        {
          "output_type": "stream",
          "name": "stdout",
          "text": [
            "[[1. 1. 1. ... 1. 1. 1.]\n",
            " [1. 1. 1. ... 1. 1. 1.]\n",
            " [1. 1. 1. ... 1. 1. 1.]\n",
            " ...\n",
            " [1. 1. 1. ... 1. 1. 1.]\n",
            " [1. 1. 1. ... 1. 1. 1.]\n",
            " [1. 1. 1. ... 1. 1. 1.]]\n"
          ]
        }
      ],
      "source": [
        "import numpy as np\n",
        "np.set_printoptions(threshold=1)\n",
        "x=np.ones((10,10))\n",
        "print(x)"
      ]
    },
    {
      "cell_type": "markdown",
      "metadata": {
        "id": "cpMuHtFG2AcI"
      },
      "source": [
        "#### 50. How to find the closest value (to a given scalar) in a vector? (★★☆) \n",
        "(**hint**: argmin)"
      ]
    },
    {
      "cell_type": "code",
      "execution_count": null,
      "metadata": {
        "id": "Y8icsMBj2AcI",
        "colab": {
          "base_uri": "https://localhost:8080/"
        },
        "outputId": "d122669b-b234-4f29-b4af-9b812f95b0ed"
      },
      "outputs": [
        {
          "output_type": "stream",
          "name": "stdout",
          "text": [
            "16\n"
          ]
        }
      ],
      "source": [
        "x=np.arange(100)\n",
        "y=np.random.uniform(0,100)\n",
        "index=(np.abs(x-y)).argmin()\n",
        "print(x[index])"
      ]
    },
    {
      "cell_type": "markdown",
      "metadata": {
        "id": "OeiBVx122AcI"
      },
      "source": [
        "#### 51. Create a structured array representing a position (x,y) and a color (r,g,b) (★★☆) \n",
        "(**hint**: dtype)"
      ]
    },
    {
      "cell_type": "code",
      "execution_count": null,
      "metadata": {
        "id": "6iaW1SGN2AcI"
      },
      "outputs": [],
      "source": [
        ""
      ]
    },
    {
      "cell_type": "markdown",
      "metadata": {
        "id": "HeWDHcfN2AcI"
      },
      "source": [
        "#### 52. Consider a random vector with shape (100,2) representing coordinates, find point by point distances (★★☆) \n",
        "(**hint**: np.atleast\\_2d, T, np.sqrt)"
      ]
    },
    {
      "cell_type": "code",
      "execution_count": null,
      "metadata": {
        "id": "8k8WmEkJ2AcJ",
        "colab": {
          "base_uri": "https://localhost:8080/"
        },
        "outputId": "f2f2d15c-c570-4c3a-9105-859732d6f961"
      },
      "outputs": [
        {
          "output_type": "stream",
          "name": "stdout",
          "text": [
            "[[0.         0.403005   0.4286332  ... 0.48173215 0.73607015 0.59067974]\n",
            " [0.403005   0.         0.71002358 ... 0.75222207 0.35645816 0.22585461]\n",
            " [0.4286332  0.71002358 0.         ... 0.81363518 0.936102   0.93355626]\n",
            " ...\n",
            " [0.48173215 0.75222207 0.81363518 ... 0.         1.1071214  0.83269137]\n",
            " [0.73607015 0.35645816 0.936102   ... 1.1071214  0.         0.35251341]\n",
            " [0.59067974 0.22585461 0.93355626 ... 0.83269137 0.35251341 0.        ]]\n"
          ]
        }
      ],
      "source": [
        "x=np.random.random((100,2))\n",
        "y,z=np.atleast_2d(x[:,0],x[:,1])\n",
        "a=np.sqrt((y-y.T)**2 + (z-z.T)**2)\n",
        "print(a)"
      ]
    },
    {
      "cell_type": "markdown",
      "metadata": {
        "id": "9nFibGEA2AcJ"
      },
      "source": [
        "#### 53. How to convert a float (32 bits) array into an integer (32 bits) in place? \n",
        "(**hint**: astype(copy=False))"
      ]
    },
    {
      "cell_type": "code",
      "execution_count": null,
      "metadata": {
        "id": "0Ix4S6l62AcJ",
        "colab": {
          "base_uri": "https://localhost:8080/"
        },
        "outputId": "9e7879a0-0423-426e-c686-b8cde53b8f85"
      },
      "outputs": [
        {
          "output_type": "stream",
          "name": "stdout",
          "text": [
            "[ 0  1  2 ... 17 18 19]\n"
          ]
        }
      ],
      "source": [
        "x=np.arange(20, dtype=np.float32)\n",
        "x=x.astype(np.int32) #copy=False)\n",
        "print(x)"
      ]
    },
    {
      "cell_type": "markdown",
      "metadata": {
        "id": "Uc_wgBJJ2AcJ"
      },
      "source": [
        "#### 54. How to read the following file? (★★☆) \n",
        "(**hint**: np.genfromtxt)"
      ]
    },
    {
      "cell_type": "markdown",
      "metadata": {
        "id": "ZaEQzBmy2AcJ"
      },
      "source": [
        "```\n",
        "1, 2, 3, 4, 5\n",
        "6,  ,  , 7, 8\n",
        " ,  , 9,10,11\n",
        "```"
      ]
    },
    {
      "cell_type": "code",
      "execution_count": null,
      "metadata": {
        "id": "VaJbZ6Ve2AcJ",
        "colab": {
          "base_uri": "https://localhost:8080/"
        },
        "outputId": "f2ad2de3-405a-44ef-82a9-d5c4dc138a8c"
      },
      "outputs": [
        {
          "output_type": "stream",
          "name": "stdout",
          "text": [
            "[[ 1  2  3  4  5]\n",
            " [ 6 -1 -1  7  8]\n",
            " [-1 -1  9 10 11]]\n"
          ]
        },
        {
          "output_type": "stream",
          "name": "stderr",
          "text": [
            "/usr/local/lib/python3.7/dist-packages/ipykernel_launcher.py:6: DeprecationWarning: `np.int` is a deprecated alias for the builtin `int`. To silence this warning, use `int` by itself. Doing this will not modify any behavior and is safe. When replacing `np.int`, you may wish to use e.g. `np.int64` or `np.int32` to specify the precision. If you wish to review your current use, check the release note link for additional information.\n",
            "Deprecated in NumPy 1.20; for more details and guidance: https://numpy.org/devdocs/release/1.20.0-notes.html#deprecations\n",
            "  \n"
          ]
        }
      ],
      "source": [
        "import numpy as np\n",
        "from io import StringIO\n",
        "x=StringIO('''1, 2, 3, 4, 5 \\n\n",
        "              6,  ,  , 7, 8 \\n\n",
        "               ,  , 9,10,11 \\n''')\n",
        "y=np.genfromtxt(x, dtype=np.int, delimiter=',')\n",
        "print(y)"
      ]
    },
    {
      "cell_type": "markdown",
      "metadata": {
        "id": "DvJrvp3Q2AcJ"
      },
      "source": [
        "#### 55. What is the equivalent of enumerate for numpy arrays? (★★☆) \n",
        "(**hint**: np.ndenumerate, np.ndindex)"
      ]
    },
    {
      "cell_type": "code",
      "execution_count": null,
      "metadata": {
        "id": "C2A-kgEN2AcJ",
        "colab": {
          "base_uri": "https://localhost:8080/"
        },
        "outputId": "1b4c522a-eee2-40ec-f515-638b51947501"
      },
      "outputs": [
        {
          "output_type": "stream",
          "name": "stdout",
          "text": [
            "(0, 0) 0\n",
            "(0, 1) 1\n",
            "(1, 0) 2\n",
            "(1, 1) 3\n",
            "(2, 0) 4\n",
            "(2, 1) 5\n",
            "(3, 0) 6\n",
            "(3, 1) 7\n",
            "(4, 0) 8\n",
            "(4, 1) 9\n",
            "(0, 0) 0\n",
            "(0, 1) 1\n",
            "(1, 0) 2\n",
            "(1, 1) 3\n",
            "(2, 0) 4\n",
            "(2, 1) 5\n",
            "(3, 0) 6\n",
            "(3, 1) 7\n",
            "(4, 0) 8\n",
            "(4, 1) 9\n"
          ]
        }
      ],
      "source": [
        "import numpy as np\n",
        "x=np.arange(10).reshape(5,2)\n",
        "for index, value in np.ndenumerate(x):\n",
        "  print(index, value)\n",
        "for index in np.ndindex(x.shape):\n",
        "  print(index,x[index])"
      ]
    },
    {
      "cell_type": "markdown",
      "metadata": {
        "id": "VXM_A2vI2AcK"
      },
      "source": [
        "#### 56. Generate a generic 2D Gaussian-like array (★★☆) \n",
        "(**hint**: np.meshgrid, np.exp)"
      ]
    },
    {
      "cell_type": "code",
      "execution_count": null,
      "metadata": {
        "id": "aoEyRbpW2AcK",
        "colab": {
          "base_uri": "https://localhost:8080/"
        },
        "outputId": "65f3043d-a656-4fa8-b343-e00c4965d325"
      },
      "outputs": [
        {
          "output_type": "stream",
          "name": "stdout",
          "text": [
            "[[0.36787944 0.42006453 0.46996266 ... 0.46996266 0.42006453 0.36787944]\n",
            " [0.42006453 0.47965227 0.53662863 ... 0.53662863 0.47965227 0.42006453]\n",
            " [0.46996266 0.53662863 0.60037304 ... 0.60037304 0.53662863 0.46996266]\n",
            " ...\n",
            " [0.46996266 0.53662863 0.60037304 ... 0.60037304 0.53662863 0.46996266]\n",
            " [0.42006453 0.47965227 0.53662863 ... 0.53662863 0.47965227 0.42006453]\n",
            " [0.36787944 0.42006453 0.46996266 ... 0.46996266 0.42006453 0.36787944]]\n"
          ]
        }
      ],
      "source": [
        "import numpy as np\n",
        "x,y=np.meshgrid(np.linspace(-1,1,15), np.linspace(-1,1,15))\n",
        "b=np.sqrt(x*x+y*y)\n",
        "sigma, mu= 1,0\n",
        "a=np.exp(-((b-mu)**2 / (2 * sigma**2)))\n",
        "print(a)"
      ]
    },
    {
      "cell_type": "markdown",
      "metadata": {
        "id": "wJFPXWSi2AcK"
      },
      "source": [
        "#### 57. How to randomly place p elements in a 2D array? (★★☆) \n",
        "(**hint**: np.put, np.random.choice)"
      ]
    },
    {
      "cell_type": "code",
      "execution_count": null,
      "metadata": {
        "id": "i_Tz59Wk2AcK",
        "colab": {
          "base_uri": "https://localhost:8080/"
        },
        "outputId": "30f6511f-672b-49d0-d283-d6e184957396"
      },
      "outputs": [
        {
          "output_type": "stream",
          "name": "stdout",
          "text": [
            "[[1. 1. 1. 1. 6.]\n",
            " [1. 6. 1. 1. 1.]\n",
            " [1. 1. 1. 6. 1.]\n",
            " [1. 1. 1. 1. 1.]\n",
            " [1. 1. 1. 1. 1.]]\n"
          ]
        }
      ],
      "source": [
        "import numpy as np\n",
        "a=5\n",
        "b=3\n",
        "x=np.ones((a,a))\n",
        "np.put(x, np.random.choice(range(a*a), b, replace=False),6)\n",
        "print(x)"
      ]
    },
    {
      "cell_type": "markdown",
      "metadata": {
        "id": "5yi1CMOR2AcK"
      },
      "source": [
        "#### 58. Subtract the mean of each row of a matrix (★★☆) \n",
        "(**hint**: mean(axis=,keepdims=))"
      ]
    },
    {
      "cell_type": "code",
      "execution_count": null,
      "metadata": {
        "id": "mV8YvfNQ2AcK",
        "colab": {
          "base_uri": "https://localhost:8080/"
        },
        "outputId": "3973fb5a-1afc-4dc9-fca5-a521216af527"
      },
      "outputs": [
        {
          "output_type": "stream",
          "name": "stdout",
          "text": [
            "[[-0.24767435  0.24767435]\n",
            " [ 0.01734258 -0.01734258]\n",
            " [-0.04729309  0.04729309]\n",
            " ...\n",
            " [-0.01294061  0.01294061]\n",
            " [ 0.10018068 -0.10018068]\n",
            " [ 0.06359189 -0.06359189]]\n"
          ]
        }
      ],
      "source": [
        "import numpy as np\n",
        "x=np.random.random((10,2))\n",
        "y=x-x.mean(axis=1, keepdims=True)\n",
        "y=x-x.mean(axis=1).reshape(-1,1)\n",
        "print(y)"
      ]
    },
    {
      "cell_type": "markdown",
      "metadata": {
        "id": "OqzlQf8e2AcK"
      },
      "source": [
        "#### 59. How to sort an array by the nth column? (★★☆) \n",
        "(**hint**: argsort)"
      ]
    },
    {
      "cell_type": "code",
      "execution_count": null,
      "metadata": {
        "id": "i4B_q7vI2AcK",
        "colab": {
          "base_uri": "https://localhost:8080/"
        },
        "outputId": "194068ba-f9fb-4c99-ed48-384e3b97a3d3"
      },
      "outputs": [
        {
          "output_type": "stream",
          "name": "stdout",
          "text": [
            "[[0 6 0 6]\n",
            " [6 8 3 3]\n",
            " [2 9 5 3]\n",
            " [6 0 7 1]]\n"
          ]
        }
      ],
      "source": [
        "import numpy as np\n",
        "x=np.random.randint(0,10,(4,4))\n",
        "print(x)"
      ]
    },
    {
      "cell_type": "markdown",
      "metadata": {
        "id": "20EEksBh2AcK"
      },
      "source": [
        "#### 60. How to tell if a given 2D array has null columns? (★★☆) \n",
        "(**hint**: any, ~)"
      ]
    },
    {
      "cell_type": "code",
      "execution_count": null,
      "metadata": {
        "id": "ufSLGj9L2AcL",
        "colab": {
          "base_uri": "https://localhost:8080/"
        },
        "outputId": "6192eb91-5c3a-4ec3-f864-e18890591d49"
      },
      "outputs": [
        {
          "output_type": "stream",
          "name": "stdout",
          "text": [
            "False\n"
          ]
        }
      ],
      "source": [
        "import numpy as np\n",
        "x=np.random.randint(0,15,(5,5))\n",
        "print((~x.any(axis=0)).any())"
      ]
    },
    {
      "cell_type": "markdown",
      "metadata": {
        "id": "TjjZpcyM2AcL"
      },
      "source": [
        "#### 61. Find the nearest value from a given value in an array (★★☆) \n",
        "(**hint**: np.abs, argmin, flat)"
      ]
    },
    {
      "cell_type": "code",
      "execution_count": null,
      "metadata": {
        "id": "coYROBtm2AcL",
        "colab": {
          "base_uri": "https://localhost:8080/"
        },
        "outputId": "815ebec7-f434-4d52-dab6-5f3e1a7b451c"
      },
      "outputs": [
        {
          "output_type": "stream",
          "name": "stdout",
          "text": [
            "0.9168902631020068\n"
          ]
        }
      ],
      "source": [
        "import numpy as np\n",
        "x=np.random.uniform(0, 1,15)\n",
        "a=2.3\n",
        "y=x.flat[np.abs(x-a).argmin()]\n",
        "print(y)"
      ]
    },
    {
      "cell_type": "markdown",
      "metadata": {
        "id": "CqBQ5Zya2AcL"
      },
      "source": [
        "#### 62. Considering two arrays with shape (1,3) and (3,1), how to compute their sum using an iterator? (★★☆) \n",
        "(**hint**: np.nditer)"
      ]
    },
    {
      "cell_type": "code",
      "execution_count": null,
      "metadata": {
        "id": "BA1i5kfA2AcL",
        "colab": {
          "base_uri": "https://localhost:8080/"
        },
        "outputId": "a688997c-bcc2-4647-db69-60e865c7c13e"
      },
      "outputs": [
        {
          "output_type": "stream",
          "name": "stdout",
          "text": [
            "[[0.97352551 0.87701504 0.90457565]\n",
            " [0.38828736 0.29177689 0.3193375 ]\n",
            " [0.6242689  0.52775843 0.55531904]]\n"
          ]
        }
      ],
      "source": [
        "import numpy as np\n",
        "x=np.random.random(3).reshape(3,1)\n",
        "y=np.random.random(3).reshape(1,3)\n",
        "z= np.nditer([x,y,None])\n",
        "for a,b,c in z: c[...]=a+b\n",
        "print(z.operands[2])"
      ]
    },
    {
      "cell_type": "markdown",
      "metadata": {
        "id": "So82YQEB2AcL"
      },
      "source": [
        "#### 63. Create an array class that has a name attribute (★★☆) \n",
        "(**hint**: class method)"
      ]
    },
    {
      "cell_type": "code",
      "execution_count": null,
      "metadata": {
        "id": "FGg0vt-O2AcL"
      },
      "outputs": [],
      "source": [
        ""
      ]
    },
    {
      "cell_type": "markdown",
      "metadata": {
        "id": "5-Sy1uWN2AcL"
      },
      "source": [
        "#### 64. Consider a given vector, how to add 1 to each element indexed by a second vector (be careful with repeated indices)? (★★★) \n",
        "(**hint**: np.bincount | np.add.at)"
      ]
    },
    {
      "cell_type": "code",
      "execution_count": null,
      "metadata": {
        "id": "GSNXU_eZ2AcL",
        "colab": {
          "base_uri": "https://localhost:8080/"
        },
        "outputId": "67f5a174-791d-4c65-aa13-864147804cc1"
      },
      "outputs": [
        {
          "output_type": "stream",
          "name": "stdout",
          "text": [
            "[5. 3. 9. ... 5. 3. 3.]\n"
          ]
        }
      ],
      "source": [
        "import numpy as np\n",
        "x=np.ones(15)\n",
        "y=np.random.randint(0,len(x),25)\n",
        "np.add.at(x,y, 2)\n",
        "print(x)"
      ]
    },
    {
      "cell_type": "markdown",
      "metadata": {
        "id": "gQkrP-Ki2AcL"
      },
      "source": [
        "#### 65. How to accumulate elements of a vector (X) to an array (F) based on an index list (I)? (★★★) \n",
        "(**hint**: np.bincount)"
      ]
    },
    {
      "cell_type": "code",
      "execution_count": null,
      "metadata": {
        "id": "TqTi8RGG2AcM",
        "colab": {
          "base_uri": "https://localhost:8080/"
        },
        "outputId": "4b2d94ec-f944-4b7b-9327-ca2b1f8d90be"
      },
      "outputs": [
        {
          "output_type": "stream",
          "name": "stdout",
          "text": [
            "[ 5.  6.  7. ... 17. 18. 19.]\n"
          ]
        }
      ],
      "source": [
        "import numpy as np\n",
        "x=np.arange(15)\n",
        "y=np.arange(5,20)\n",
        "z=np.bincount(x,y)\n",
        "print(z)"
      ]
    },
    {
      "cell_type": "markdown",
      "metadata": {
        "id": "Mpz4ol6w2AcM"
      },
      "source": [
        "#### 66. Considering a (w,h,3) image of (dtype=ubyte), compute the number of unique colors (★★★) \n",
        "(**hint**: np.unique)"
      ]
    },
    {
      "cell_type": "code",
      "execution_count": null,
      "metadata": {
        "id": "RGOwNHEk2AcM"
      },
      "outputs": [],
      "source": [
        ""
      ]
    },
    {
      "cell_type": "markdown",
      "metadata": {
        "id": "5LhJ4hTw2AcM"
      },
      "source": [
        "#### 67. Considering a four dimensions array, how to get sum over the last two axis at once? (★★★) \n",
        "(**hint**: sum(axis=(-2,-1)))"
      ]
    },
    {
      "cell_type": "code",
      "execution_count": null,
      "metadata": {
        "id": "9aYQnL9l2AcM",
        "colab": {
          "base_uri": "https://localhost:8080/"
        },
        "outputId": "661c9049-d4dd-447e-f34b-996d1c51eb1f"
      },
      "outputs": [
        {
          "output_type": "stream",
          "name": "stdout",
          "text": [
            "[[105 149 138 170 127]\n",
            " [155 118 105 128 132]\n",
            " [139 157 125 120 153]\n",
            " [137 140 123 129 129]]\n"
          ]
        }
      ],
      "source": [
        "import numpy as np\n",
        "x=np.random.randint(0,15,(4,5,4,5))\n",
        "sum=x.sum(axis=(-2,-1))\n",
        "print(sum)"
      ]
    },
    {
      "cell_type": "markdown",
      "metadata": {
        "id": "SBiacZ8q2AcM"
      },
      "source": [
        "#### 68. Considering a one-dimensional vector D, how to compute means of subsets of D using a vector S of same size describing subset  indices? (★★★) \n",
        "(**hint**: np.bincount)"
      ]
    },
    {
      "cell_type": "code",
      "execution_count": null,
      "metadata": {
        "id": "janKQ50Z2AcM",
        "colab": {
          "base_uri": "https://localhost:8080/"
        },
        "outputId": "af494c10-8902-49ef-9293-be0442cdb96e"
      },
      "outputs": [
        {
          "output_type": "stream",
          "name": "stdout",
          "text": [
            "[ 1  2  3 ... 17 18 19]\n"
          ]
        }
      ],
      "source": [
        "import numpy as np\n",
        "d=np.arange(1,20)\n"
      ]
    },
    {
      "cell_type": "markdown",
      "metadata": {
        "id": "1HEBdDMf2AcM"
      },
      "source": [
        "#### 69. How to get the diagonal of a dot product? (★★★) \n",
        "(**hint**: np.diag)"
      ]
    },
    {
      "cell_type": "code",
      "execution_count": null,
      "metadata": {
        "id": "LhHyB3mS2AcM",
        "colab": {
          "base_uri": "https://localhost:8080/"
        },
        "outputId": "f3cd31e4-8872-415e-d215-e193f3a5fa59"
      },
      "outputs": [
        {
          "output_type": "stream",
          "name": "stdout",
          "text": [
            "[1.50860404 1.72282724 2.88195642 ... 1.99875022 3.82946221 1.43677156]\n"
          ]
        }
      ],
      "source": [
        "import numpy as np\n",
        "x=np.random.uniform(0,1,(8,8))\n",
        "y=np.random.uniform(0,1,(8,8))\n",
        "print(np.diag(np.dot(x,y)))"
      ]
    },
    {
      "cell_type": "markdown",
      "metadata": {
        "id": "6hWQbSED2AcM"
      },
      "source": [
        "#### 70. Consider the vector \\[1, 2, 3, 4, 5\\], how to build a new vector with 3 consecutive zeros interleaved between each value? (★★★) \n",
        "(**hint**: array\\[::4\\])"
      ]
    },
    {
      "cell_type": "code",
      "execution_count": null,
      "metadata": {
        "id": "npTzNfaH2AcN",
        "colab": {
          "base_uri": "https://localhost:8080/"
        },
        "outputId": "3727621b-5a08-4d27-9a89-accf9ef35803"
      },
      "outputs": [
        {
          "output_type": "stream",
          "name": "stdout",
          "text": [
            "[1. 0. 0. ... 0. 0. 5.]\n"
          ]
        }
      ],
      "source": [
        "x=np.array([1,2,3,4,5])\n",
        "ax=3\n",
        "x0=np.zeros(len(x)+ (len(x)-1)*(ax))\n",
        "x0[::ax+1]=x\n",
        "print(x0)"
      ]
    },
    {
      "cell_type": "markdown",
      "metadata": {
        "id": "A30QLQAY2AcN"
      },
      "source": [
        "#### 71. Consider an array of dimension (5,5,3), how to mulitply it by an array with dimensions (5,5)? (★★★) \n",
        "(**hint**: array\\[:, :, None\\])"
      ]
    },
    {
      "cell_type": "code",
      "execution_count": null,
      "metadata": {
        "collapsed": true,
        "id": "j5_GcEBH2AcN",
        "colab": {
          "base_uri": "https://localhost:8080/"
        },
        "outputId": "822dc47b-d9a7-47d1-9b4c-0ef041a3d097"
      },
      "outputs": [
        {
          "output_type": "stream",
          "name": "stdout",
          "text": [
            "[[[ 3. 12.  6.]\n",
            "  [ 3. 12.  6.]\n",
            "  [ 3. 12.  6.]\n",
            "  [ 3. 12.  6.]\n",
            "  [ 3. 12.  6.]]\n",
            "\n",
            " [[ 3. 12.  6.]\n",
            "  [ 3. 12.  6.]\n",
            "  [ 3. 12.  6.]\n",
            "  [ 3. 12.  6.]\n",
            "  [ 3. 12.  6.]]\n",
            "\n",
            " [[ 3. 12.  6.]\n",
            "  [ 3. 12.  6.]\n",
            "  [ 3. 12.  6.]\n",
            "  [ 3. 12.  6.]\n",
            "  [ 3. 12.  6.]]\n",
            "\n",
            " [[ 3. 12.  6.]\n",
            "  [ 3. 12.  6.]\n",
            "  [ 3. 12.  6.]\n",
            "  [ 3. 12.  6.]\n",
            "  [ 3. 12.  6.]]\n",
            "\n",
            " [[ 3. 12.  6.]\n",
            "  [ 3. 12.  6.]\n",
            "  [ 3. 12.  6.]\n",
            "  [ 3. 12.  6.]\n",
            "  [ 3. 12.  6.]]]\n"
          ]
        }
      ],
      "source": [
        "x=np.random.randint((5,5,3))\n",
        "y=3*np.ones((5,5))\n",
        "print(x*y[:,:,None])"
      ]
    },
    {
      "cell_type": "markdown",
      "metadata": {
        "id": "DlpOIq-42AcN"
      },
      "source": [
        "#### 72. How to swap two rows of an array? (★★★) \n",
        "(**hint**: array\\[\\[\\]\\] = array\\[\\[\\]\\])"
      ]
    },
    {
      "cell_type": "code",
      "execution_count": null,
      "metadata": {
        "id": "u_w4TzWN2AcN",
        "colab": {
          "base_uri": "https://localhost:8080/"
        },
        "outputId": "9d28a03a-6aec-4a71-f139-56fc7d202626"
      },
      "outputs": [
        {
          "output_type": "stream",
          "name": "stdout",
          "text": [
            "[[ 0  1  2  3  4  5]\n",
            " [ 6  7  8  9 10 11]\n",
            " [12 13 14 15 16 17]\n",
            " [18 19 20 21 22 23]\n",
            " [24 25 26 27 28 29]]\n"
          ]
        }
      ],
      "source": [
        "x=np.arange(30).reshape(5,6)\n",
        "x[[0,1]]==x[[1,0]]\n",
        "print(x)"
      ]
    },
    {
      "cell_type": "markdown",
      "metadata": {
        "id": "z22fS1ob2AcN"
      },
      "source": [
        "#### 73. Consider a set of 10 triplets describing 10 triangles (with shared vertices), find the set of unique line segments composing all the  triangles (★★★) \n",
        "(**hint**: repeat, np.roll, np.sort, view, np.unique)"
      ]
    },
    {
      "cell_type": "code",
      "execution_count": 81,
      "metadata": {
        "id": "P02n0VJ-2AcN",
        "colab": {
          "base_uri": "https://localhost:8080/"
        },
        "outputId": "52870c2a-edbd-45be-b421-003eb8ca922e"
      },
      "outputs": [
        {
          "output_type": "stream",
          "name": "stdout",
          "text": [
            "[( 2, 20) ( 2, 42) ( 2, 51) ... (88, 95) (88, 99) (95, 99)]\n"
          ]
        }
      ],
      "source": [
        "x=np.random.randint(0,100,(10,3))\n",
        "y=np.roll(x.repeat(2,axis=1),-1, axis=1)\n",
        "y=y.reshape(len(y)*3,2)\n",
        "y=np.sort(y, axis=1)\n",
        "z=y.view(dtype=[('p0',y.dtype),('p1',y.dtype)])\n",
        "z=np.unique(z)\n",
        "print(z)"
      ]
    },
    {
      "cell_type": "markdown",
      "metadata": {
        "id": "WhDzsWTQ2AcN"
      },
      "source": [
        "#### 74. Given an array C that is a bincount, how to produce an array A such that np.bincount(A) == C? (★★★) \n",
        "(**hint**: np.repeat)"
      ]
    },
    {
      "cell_type": "code",
      "execution_count": 82,
      "metadata": {
        "id": "pAxVCTZN2AcN",
        "colab": {
          "base_uri": "https://localhost:8080/"
        },
        "outputId": "d1e89b67-b05a-41ce-e4d5-9a08372bcc2d"
      },
      "outputs": [
        {
          "output_type": "stream",
          "name": "stdout",
          "text": [
            "[1 2 3 ... 5 5 6]\n"
          ]
        }
      ],
      "source": [
        "x=np.bincount([1,2,3,4,4,4,4,5,5,5,5,5,6])\n",
        "y=np.repeat(np.arange(len(x)),x)\n",
        "print(y)"
      ]
    },
    {
      "cell_type": "markdown",
      "metadata": {
        "id": "HQgKClj02AcN"
      },
      "source": [
        "#### 75. How to compute averages using a sliding window over an array? (★★★) \n",
        "(**hint**: np.cumsum)"
      ]
    },
    {
      "cell_type": "code",
      "execution_count": null,
      "metadata": {
        "id": "VI0UUm2w2AcO"
      },
      "outputs": [],
      "source": [
        ""
      ]
    },
    {
      "cell_type": "markdown",
      "metadata": {
        "id": "v1S9Y3TG2AcO"
      },
      "source": [
        "#### 76. Consider a one-dimensional array Z, build a two-dimensional array whose first row is (Z\\[0\\],Z\\[1\\],Z\\[2\\]) and each subsequent row is  shifted by 1 (last row should be (Z\\[-3\\],Z\\[-2\\],Z\\[-1\\]) (★★★) \n",
        "(**hint**: from numpy.lib import stride_tricks)"
      ]
    },
    {
      "cell_type": "code",
      "execution_count": null,
      "metadata": {
        "id": "g-3Sihpy2AcO"
      },
      "outputs": [],
      "source": [
        ""
      ]
    },
    {
      "cell_type": "markdown",
      "metadata": {
        "id": "In7hzKCF2AcO"
      },
      "source": [
        "#### 77. How to negate a boolean, or to change the sign of a float inplace? (★★★) \n",
        "(**hint**: np.logical_not, np.negative)"
      ]
    },
    {
      "cell_type": "code",
      "execution_count": 85,
      "metadata": {
        "id": "l7BBGcXY2AcO",
        "colab": {
          "base_uri": "https://localhost:8080/"
        },
        "outputId": "5745a903-6d41-4c82-b57b-c3818b39d843"
      },
      "outputs": [
        {
          "output_type": "execute_result",
          "data": {
            "text/plain": [
              "array([ 0.54018816,  0.312386  , -0.50844637, ...,  0.03124193,\n",
              "        0.4665701 ,  0.96372379])"
            ]
          },
          "metadata": {},
          "execution_count": 85
        }
      ],
      "source": [
        "x=np.random.randint(0,10,100)\n",
        "np.logical_not(x, out=x)\n",
        "\n",
        "x=np.random.uniform(-1.0, 1.0, 100)\n",
        "np.negative(x, out=x)"
      ]
    },
    {
      "cell_type": "markdown",
      "metadata": {
        "id": "gHFnX3g-2AcO"
      },
      "source": [
        "#### 78. Consider 2 sets of points P0,P1 describing lines (2d) and a point p, how to compute distance from p to each line i  (P0\\[i\\],P1\\[i\\])? (★★★)"
      ]
    },
    {
      "cell_type": "code",
      "execution_count": null,
      "metadata": {
        "id": "Noy7fWFt2AcO"
      },
      "outputs": [],
      "source": [
        ""
      ]
    },
    {
      "cell_type": "markdown",
      "metadata": {
        "id": "ov-aR7Gc2AcO"
      },
      "source": [
        "#### 79. Consider 2 sets of points P0,P1 describing lines (2d) and a set of points P, how to compute distance from each point j (P\\[j\\]) to each line i (P0\\[i\\],P1\\[i\\])? (★★★)"
      ]
    },
    {
      "cell_type": "code",
      "execution_count": null,
      "metadata": {
        "id": "3njx_0GA2AcO"
      },
      "outputs": [],
      "source": [
        ""
      ]
    },
    {
      "cell_type": "markdown",
      "metadata": {
        "id": "DiL1wZfx2AcP"
      },
      "source": [
        "#### 80. Consider an arbitrary array, write a function that extract a subpart with a fixed shape and centered on a given element (pad with a `fill` value when necessary) (★★★) \n",
        "(**hint**: minimum, maximum)"
      ]
    },
    {
      "cell_type": "code",
      "execution_count": null,
      "metadata": {
        "id": "2iq2ruWx2AcP"
      },
      "outputs": [],
      "source": [
        ""
      ]
    },
    {
      "cell_type": "markdown",
      "metadata": {
        "id": "awuF9hX22AcP"
      },
      "source": [
        "#### 81. Consider an array Z = \\[1,2,3,4,5,6,7,8,9,10,11,12,13,14\\], how to generate an array R = \\[\\[1,2,3,4\\], \\[2,3,4,5\\], \\[3,4,5,6\\], ..., \\[11,12,13,14\\]\\]? (★★★) \n",
        "(**hint**: stride\\_tricks.as\\_strided)"
      ]
    },
    {
      "cell_type": "code",
      "execution_count": 97,
      "metadata": {
        "id": "WwwatItE2AcP",
        "colab": {
          "base_uri": "https://localhost:8080/",
          "height": 200
        },
        "outputId": "b3862332-46a1-4001-86b1-56e97e1dd492"
      },
      "outputs": [
        {
          "output_type": "error",
          "ename": "NameError",
          "evalue": "ignored",
          "traceback": [
            "\u001b[0;31m---------------------------------------------------------------------------\u001b[0m",
            "\u001b[0;31mNameError\u001b[0m                                 Traceback (most recent call last)",
            "\u001b[0;32m<ipython-input-97-e6b752e5c714>\u001b[0m in \u001b[0;36m<module>\u001b[0;34m()\u001b[0m\n\u001b[1;32m      1\u001b[0m \u001b[0mx\u001b[0m\u001b[0;34m=\u001b[0m\u001b[0mnp\u001b[0m\u001b[0;34m.\u001b[0m\u001b[0marange\u001b[0m\u001b[0;34m(\u001b[0m\u001b[0;36m1\u001b[0m\u001b[0;34m,\u001b[0m\u001b[0;36m15\u001b[0m\u001b[0;34m)\u001b[0m\u001b[0;34m\u001b[0m\u001b[0;34m\u001b[0m\u001b[0m\n\u001b[0;32m----> 2\u001b[0;31m \u001b[0my\u001b[0m\u001b[0;34m=\u001b[0m\u001b[0mstride_tricks\u001b[0m\u001b[0;34m.\u001b[0m\u001b[0mas_strided\u001b[0m\u001b[0;34m(\u001b[0m\u001b[0mx\u001b[0m\u001b[0;34m,\u001b[0m \u001b[0;34m(\u001b[0m\u001b[0;36m11\u001b[0m\u001b[0;34m,\u001b[0m\u001b[0;36m4\u001b[0m\u001b[0;34m)\u001b[0m\u001b[0;34m,\u001b[0m\u001b[0;34m(\u001b[0m\u001b[0;36m4\u001b[0m\u001b[0;34m,\u001b[0m\u001b[0;36m4\u001b[0m\u001b[0;34m)\u001b[0m\u001b[0;34m)\u001b[0m\u001b[0;34m\u001b[0m\u001b[0;34m\u001b[0m\u001b[0m\n\u001b[0m\u001b[1;32m      3\u001b[0m \u001b[0mprint\u001b[0m\u001b[0;34m(\u001b[0m\u001b[0my\u001b[0m\u001b[0;34m)\u001b[0m\u001b[0;34m\u001b[0m\u001b[0;34m\u001b[0m\u001b[0m\n",
            "\u001b[0;31mNameError\u001b[0m: name 'stride_tricks' is not defined"
          ]
        }
      ],
      "source": [
        "x=np.arange(1,15)\n",
        "y=stride_tricks.as_strided(x, (11,4),(4,4))\n",
        "print(y)"
      ]
    },
    {
      "cell_type": "markdown",
      "metadata": {
        "id": "ZWEl7ZO-2AcP"
      },
      "source": [
        "#### 82. Compute a matrix rank (★★★) \n",
        "(**hint**: np.linalg.svd) (suggestion: np.linalg.svd)"
      ]
    },
    {
      "cell_type": "code",
      "execution_count": 92,
      "metadata": {
        "id": "uKK7M5qL2AcP",
        "colab": {
          "base_uri": "https://localhost:8080/"
        },
        "outputId": "0507abe2-d341-47a2-bca5-75f55a2146ce"
      },
      "outputs": [
        {
          "output_type": "stream",
          "name": "stdout",
          "text": [
            "10\n"
          ]
        }
      ],
      "source": [
        "x=np.random.uniform(0,5,(10,10))\n",
        "y,z,a=np.linalg.svd(x)\n",
        "b=np.sum(z>1e-100)\n",
        "print(b)"
      ]
    },
    {
      "cell_type": "markdown",
      "metadata": {
        "id": "51uCMSKZ2AcP"
      },
      "source": [
        "#### 83. How to find the most frequent value in an array? \n",
        "(**hint**: np.bincount, argmax)"
      ]
    },
    {
      "cell_type": "code",
      "execution_count": 96,
      "metadata": {
        "id": "huDHAag52AcP",
        "colab": {
          "base_uri": "https://localhost:8080/"
        },
        "outputId": "cc6b859e-da20-4b2f-c622-9e2cf7393ea4"
      },
      "outputs": [
        {
          "output_type": "stream",
          "name": "stdout",
          "text": [
            "1\n"
          ]
        }
      ],
      "source": [
        "x=np.random.randint(0,10,40)\n",
        "print(np.bincount(x).argmax())"
      ]
    },
    {
      "cell_type": "markdown",
      "metadata": {
        "id": "SfYNiIPN2AcP"
      },
      "source": [
        "#### 84. Extract all the contiguous 3x3 blocks from a random 10x10 matrix (★★★) \n",
        "(**hint**: stride\\_tricks.as\\_strided)"
      ]
    },
    {
      "cell_type": "code",
      "execution_count": 98,
      "metadata": {
        "id": "laIgSaIl2AcQ",
        "colab": {
          "base_uri": "https://localhost:8080/"
        },
        "outputId": "a3a0c553-207c-4130-a4be-88237f4b2d28"
      },
      "outputs": [
        {
          "output_type": "stream",
          "name": "stdout",
          "text": [
            "[[[[3 3 3]\n",
            "   [0 3 1]\n",
            "   [3 3 1]]\n",
            "\n",
            "  [[3 3 0]\n",
            "   [3 1 0]\n",
            "   [3 1 1]]\n",
            "\n",
            "  [[3 0 2]\n",
            "   [1 0 0]\n",
            "   [1 1 3]]\n",
            "\n",
            "  ...\n",
            "\n",
            "  [[2 4 4]\n",
            "   [3 2 0]\n",
            "   [1 2 2]]\n",
            "\n",
            "  [[4 4 0]\n",
            "   [2 0 3]\n",
            "   [2 2 3]]\n",
            "\n",
            "  [[4 0 2]\n",
            "   [0 3 4]\n",
            "   [2 3 3]]]\n",
            "\n",
            "\n",
            " [[[0 3 1]\n",
            "   [3 3 1]\n",
            "   [4 4 1]]\n",
            "\n",
            "  [[3 1 0]\n",
            "   [3 1 1]\n",
            "   [4 1 3]]\n",
            "\n",
            "  [[1 0 0]\n",
            "   [1 1 3]\n",
            "   [1 3 4]]\n",
            "\n",
            "  ...\n",
            "\n",
            "  [[3 2 0]\n",
            "   [1 2 2]\n",
            "   [1 1 1]]\n",
            "\n",
            "  [[2 0 3]\n",
            "   [2 2 3]\n",
            "   [1 1 1]]\n",
            "\n",
            "  [[0 3 4]\n",
            "   [2 3 3]\n",
            "   [1 1 3]]]\n",
            "\n",
            "\n",
            " [[[3 3 1]\n",
            "   [4 4 1]\n",
            "   [0 1 4]]\n",
            "\n",
            "  [[3 1 1]\n",
            "   [4 1 3]\n",
            "   [1 4 0]]\n",
            "\n",
            "  [[1 1 3]\n",
            "   [1 3 4]\n",
            "   [4 0 0]]\n",
            "\n",
            "  ...\n",
            "\n",
            "  [[1 2 2]\n",
            "   [1 1 1]\n",
            "   [4 0 4]]\n",
            "\n",
            "  [[2 2 3]\n",
            "   [1 1 1]\n",
            "   [0 4 3]]\n",
            "\n",
            "  [[2 3 3]\n",
            "   [1 1 3]\n",
            "   [4 3 0]]]\n",
            "\n",
            "\n",
            " ...\n",
            "\n",
            "\n",
            " [[[4 4 2]\n",
            "   [3 4 3]\n",
            "   [4 1 1]]\n",
            "\n",
            "  [[4 2 3]\n",
            "   [4 3 1]\n",
            "   [1 1 1]]\n",
            "\n",
            "  [[2 3 3]\n",
            "   [3 1 0]\n",
            "   [1 1 0]]\n",
            "\n",
            "  ...\n",
            "\n",
            "  [[1 1 1]\n",
            "   [0 1 1]\n",
            "   [1 0 4]]\n",
            "\n",
            "  [[1 1 4]\n",
            "   [1 1 1]\n",
            "   [0 4 0]]\n",
            "\n",
            "  [[1 4 0]\n",
            "   [1 1 4]\n",
            "   [4 0 2]]]\n",
            "\n",
            "\n",
            " [[[3 4 3]\n",
            "   [4 1 1]\n",
            "   [4 4 4]]\n",
            "\n",
            "  [[4 3 1]\n",
            "   [1 1 1]\n",
            "   [4 4 1]]\n",
            "\n",
            "  [[3 1 0]\n",
            "   [1 1 0]\n",
            "   [4 1 4]]\n",
            "\n",
            "  ...\n",
            "\n",
            "  [[0 1 1]\n",
            "   [1 0 4]\n",
            "   [3 1 4]]\n",
            "\n",
            "  [[1 1 1]\n",
            "   [0 4 0]\n",
            "   [1 4 3]]\n",
            "\n",
            "  [[1 1 4]\n",
            "   [4 0 2]\n",
            "   [4 3 4]]]\n",
            "\n",
            "\n",
            " [[[4 1 1]\n",
            "   [4 4 4]\n",
            "   [1 2 0]]\n",
            "\n",
            "  [[1 1 1]\n",
            "   [4 4 1]\n",
            "   [2 0 1]]\n",
            "\n",
            "  [[1 1 0]\n",
            "   [4 1 4]\n",
            "   [0 1 3]]\n",
            "\n",
            "  ...\n",
            "\n",
            "  [[1 0 4]\n",
            "   [3 1 4]\n",
            "   [2 3 1]]\n",
            "\n",
            "  [[0 4 0]\n",
            "   [1 4 3]\n",
            "   [3 1 4]]\n",
            "\n",
            "  [[4 0 2]\n",
            "   [4 3 4]\n",
            "   [1 4 4]]]]\n"
          ]
        }
      ],
      "source": [
        "from numpy.lib import stride_tricks\n",
        "x = np.random.randint(0,5,(10,10))\n",
        "a = 3\n",
        "b = 1 + (x.shape[0]-3)\n",
        "c = 1 + (x.shape[1]-3)\n",
        "d = stride_tricks.as_strided(x, shape=(b, c, a, a), strides=x.strides + x.strides)\n",
        "print(d)"
      ]
    },
    {
      "cell_type": "markdown",
      "metadata": {
        "id": "i_OZjq-u2AcQ"
      },
      "source": [
        "#### 85. Create a 2D array subclass such that Z\\[i,j\\] == Z\\[j,i\\] (★★★) \n",
        "(**hint**: class method)"
      ]
    },
    {
      "cell_type": "code",
      "execution_count": null,
      "metadata": {
        "id": "O9RGL2JD2AcQ"
      },
      "outputs": [],
      "source": [
        ""
      ]
    },
    {
      "cell_type": "markdown",
      "metadata": {
        "id": "HtLFpGxw2AcQ"
      },
      "source": [
        "#### 86. Consider a set of p matrices wich shape (n,n) and a set of p vectors with shape (n,1). How to compute the sum of of the p matrix products at once? (result has shape (n,1)) (★★★) \n",
        "(**hint**: np.tensordot)"
      ]
    },
    {
      "cell_type": "code",
      "execution_count": 99,
      "metadata": {
        "id": "SBf3hoL72AcQ",
        "colab": {
          "base_uri": "https://localhost:8080/"
        },
        "outputId": "7f0831fe-b0d0-41be-c954-7e093407626d"
      },
      "outputs": [
        {
          "output_type": "stream",
          "name": "stdout",
          "text": [
            "[[600.]\n",
            " [600.]\n",
            " [600.]\n",
            " ...\n",
            " [600.]\n",
            " [600.]\n",
            " [600.]]\n"
          ]
        }
      ],
      "source": [
        "a,b = 20,30\n",
        "c = np.ones((a,b,b))\n",
        "d=np.ones((a,b,1))\n",
        "sum= np.tensordot(c,d, axes=[[0,2],[0,1]])\n",
        "print(sum)"
      ]
    },
    {
      "cell_type": "markdown",
      "metadata": {
        "id": "ypNKQMxr2AcQ"
      },
      "source": [
        "#### 87. Consider a 16x16 array, how to get the block-sum (block size is 4x4)? (★★★) \n",
        "(**hint**: np.add.reduceat)"
      ]
    },
    {
      "cell_type": "code",
      "execution_count": null,
      "metadata": {
        "id": "PhRIH9l72AcQ"
      },
      "outputs": [],
      "source": [
        ""
      ]
    },
    {
      "cell_type": "markdown",
      "metadata": {
        "id": "bWEpBCB12AcQ"
      },
      "source": [
        "#### 88. How to implement the Game of Life using numpy arrays? (★★★)"
      ]
    },
    {
      "cell_type": "code",
      "execution_count": null,
      "metadata": {
        "id": "q1vtr5tZ2AcQ"
      },
      "outputs": [],
      "source": [
        ""
      ]
    },
    {
      "cell_type": "markdown",
      "metadata": {
        "id": "mSqil-lT2AcQ"
      },
      "source": [
        "#### 89. How to get the n largest values of an array (★★★) \n",
        "(**hint**: np.argsort | np.argpartition)"
      ]
    },
    {
      "cell_type": "code",
      "execution_count": null,
      "metadata": {
        "id": "EdSefrAk2AcR"
      },
      "outputs": [],
      "source": [
        ""
      ]
    },
    {
      "cell_type": "markdown",
      "metadata": {
        "id": "V98x5Ob-2AcR"
      },
      "source": [
        "#### 90. Given an arbitrary number of vectors, build the cartesian product (every combinations of every item) (★★★) \n",
        "(**hint**: np.indices)"
      ]
    },
    {
      "cell_type": "code",
      "execution_count": null,
      "metadata": {
        "scrolled": true,
        "id": "ArZGRPaA2AcR"
      },
      "outputs": [],
      "source": [
        ""
      ]
    },
    {
      "cell_type": "markdown",
      "metadata": {
        "id": "VtfbW8fX2AcR"
      },
      "source": [
        "#### 91. How to create a record array from a regular array? (★★★) \n",
        "(**hint**: np.core.records.fromarrays)"
      ]
    },
    {
      "cell_type": "code",
      "execution_count": 102,
      "metadata": {
        "id": "xgMEjRCW2AcR",
        "colab": {
          "base_uri": "https://localhost:8080/",
          "height": 411
        },
        "outputId": "84fe6b70-ad15-4946-f5c0-ea28bf082405"
      },
      "outputs": [
        {
          "output_type": "stream",
          "name": "stderr",
          "text": [
            "/usr/local/lib/python3.7/dist-packages/ipykernel_launcher.py:2: VisibleDeprecationWarning: Creating an ndarray from ragged nested sequences (which is a list-or-tuple of lists-or-tuples-or ndarrays with different lengths or shapes) is deprecated. If you meant to do this, you must specify 'dtype=object' when creating the ndarray.\n",
            "  \n"
          ]
        },
        {
          "output_type": "error",
          "ename": "ValueError",
          "evalue": "ignored",
          "traceback": [
            "\u001b[0;31m---------------------------------------------------------------------------\u001b[0m",
            "\u001b[0;31mValueError\u001b[0m                                Traceback (most recent call last)",
            "\u001b[0;32m<ipython-input-102-cdee78f892a9>\u001b[0m in \u001b[0;36m<module>\u001b[0;34m()\u001b[0m\n\u001b[1;32m      3\u001b[0m y=np.core.records.fromarrays(x.T, \n\u001b[1;32m      4\u001b[0m                              \u001b[0mnames\u001b[0m\u001b[0;34m=\u001b[0m\u001b[0;34m'col1, col2'\u001b[0m\u001b[0;34m,\u001b[0m\u001b[0;34m\u001b[0m\u001b[0;34m\u001b[0m\u001b[0m\n\u001b[0;32m----> 5\u001b[0;31m                              formats= 'S8, f8')\n\u001b[0m\u001b[1;32m      6\u001b[0m \u001b[0mprint\u001b[0m\u001b[0;34m(\u001b[0m\u001b[0my\u001b[0m\u001b[0;34m)\u001b[0m\u001b[0;34m\u001b[0m\u001b[0;34m\u001b[0m\u001b[0m\n",
            "\u001b[0;32m/usr/local/lib/python3.7/dist-packages/numpy/core/records.py\u001b[0m in \u001b[0;36mfromarrays\u001b[0;34m(arrayList, dtype, shape, formats, names, titles, aligned, byteorder)\u001b[0m\n\u001b[1;32m    658\u001b[0m     \u001b[0;31m# Determine shape from data-type.\u001b[0m\u001b[0;34m\u001b[0m\u001b[0;34m\u001b[0m\u001b[0;34m\u001b[0m\u001b[0m\n\u001b[1;32m    659\u001b[0m     \u001b[0;32mif\u001b[0m \u001b[0mlen\u001b[0m\u001b[0;34m(\u001b[0m\u001b[0mdescr\u001b[0m\u001b[0;34m)\u001b[0m \u001b[0;34m!=\u001b[0m \u001b[0mlen\u001b[0m\u001b[0;34m(\u001b[0m\u001b[0marrayList\u001b[0m\u001b[0;34m)\u001b[0m\u001b[0;34m:\u001b[0m\u001b[0;34m\u001b[0m\u001b[0;34m\u001b[0m\u001b[0m\n\u001b[0;32m--> 660\u001b[0;31m         raise ValueError(\"mismatch between the number of fields \"\n\u001b[0m\u001b[1;32m    661\u001b[0m                 \"and the number of arrays\")\n\u001b[1;32m    662\u001b[0m \u001b[0;34m\u001b[0m\u001b[0m\n",
            "\u001b[0;31mValueError\u001b[0m: mismatch between the number of fields and the number of arrays"
          ]
        }
      ],
      "source": [
        "x=np.array([('Hi', 3.5, 4),\n",
        "            'Everyone', 2.4, 5])\n",
        "y=np.core.records.fromarrays(x.T, \n",
        "                             names='col1, col2, col3',\n",
        "                             formats= 'S8, f8, i8')\n",
        "print(y)"
      ]
    },
    {
      "cell_type": "markdown",
      "metadata": {
        "id": "_YPvlmRv2AcR"
      },
      "source": [
        "#### 92. Consider a large vector Z, compute Z to the power of 3 using 3 different methods (★★★) \n",
        "(**hint**: np.power, \\*, np.einsum)"
      ]
    },
    {
      "cell_type": "code",
      "execution_count": 105,
      "metadata": {
        "id": "8RioaXH42AcR",
        "colab": {
          "base_uri": "https://localhost:8080/"
        },
        "outputId": "2a10a930-cabc-4e24-d27c-187f8de52d26"
      },
      "outputs": [
        {
          "output_type": "stream",
          "name": "stdout",
          "text": [
            "[0.24683598 0.01364752 0.08897288 ... 0.49081944 0.00889692 0.17006011] \n",
            "\n",
            "[0.24683598 0.01364752 0.08897288 ... 0.49081944 0.00889692 0.17006011] \n",
            "\n"
          ]
        }
      ],
      "source": [
        "x=np.random.rand(100)\n",
        "print(np.power(x,3), '\\n')\n",
        "print((x*x*x), '\\n')"
      ]
    },
    {
      "cell_type": "markdown",
      "metadata": {
        "id": "7eSry7qq2AcS"
      },
      "source": [
        "#### 93. Consider two arrays A and B of shape (8,3) and (2,2). How to find rows of A that contain elements of each row of B regardless of the order of the elements in B? (★★★) \n",
        "(**hint**: np.where)"
      ]
    },
    {
      "cell_type": "code",
      "execution_count": 106,
      "metadata": {
        "id": "I7x6UhbI2AcS",
        "colab": {
          "base_uri": "https://localhost:8080/",
          "height": 272
        },
        "outputId": "ae9d50bd-f830-424a-f763-7507fe1db8a1"
      },
      "outputs": [
        {
          "output_type": "stream",
          "name": "stderr",
          "text": [
            "/usr/local/lib/python3.7/dist-packages/ipykernel_launcher.py:3: DeprecationWarning: elementwise comparison failed; this will raise an error in the future.\n",
            "  This is separate from the ipykernel package so we can avoid doing imports until\n"
          ]
        },
        {
          "output_type": "error",
          "ename": "AttributeError",
          "evalue": "ignored",
          "traceback": [
            "\u001b[0;31m---------------------------------------------------------------------------\u001b[0m",
            "\u001b[0;31mAttributeError\u001b[0m                            Traceback (most recent call last)",
            "\u001b[0;32m<ipython-input-106-53b2f782e87a>\u001b[0m in \u001b[0;36m<module>\u001b[0;34m()\u001b[0m\n\u001b[1;32m      2\u001b[0m \u001b[0my\u001b[0m\u001b[0;34m=\u001b[0m\u001b[0mnp\u001b[0m\u001b[0;34m.\u001b[0m\u001b[0mrandom\u001b[0m\u001b[0;34m.\u001b[0m\u001b[0mrandint\u001b[0m\u001b[0;34m(\u001b[0m\u001b[0;36m0\u001b[0m\u001b[0;34m,\u001b[0m\u001b[0;36m10\u001b[0m\u001b[0;34m,\u001b[0m\u001b[0;34m(\u001b[0m\u001b[0;36m2\u001b[0m\u001b[0;34m,\u001b[0m\u001b[0;36m2\u001b[0m\u001b[0;34m)\u001b[0m\u001b[0;34m)\u001b[0m\u001b[0;34m\u001b[0m\u001b[0;34m\u001b[0m\u001b[0m\n\u001b[1;32m      3\u001b[0m \u001b[0mz\u001b[0m\u001b[0;34m=\u001b[0m\u001b[0;34m(\u001b[0m\u001b[0mx\u001b[0m\u001b[0;34m[\u001b[0m\u001b[0mnp\u001b[0m\u001b[0;34m.\u001b[0m\u001b[0mnewaxis\u001b[0m\u001b[0;34m,\u001b[0m \u001b[0mnp\u001b[0m\u001b[0;34m.\u001b[0m\u001b[0mnewaxis\u001b[0m\u001b[0;34m]\u001b[0m\u001b[0;34m==\u001b[0m\u001b[0my\u001b[0m\u001b[0;34m)\u001b[0m\u001b[0;34m\u001b[0m\u001b[0;34m\u001b[0m\u001b[0m\n\u001b[0;32m----> 4\u001b[0;31m \u001b[0ma\u001b[0m\u001b[0;34m=\u001b[0m\u001b[0mnp\u001b[0m\u001b[0;34m.\u001b[0m\u001b[0mwhere\u001b[0m\u001b[0;34m(\u001b[0m\u001b[0mz\u001b[0m\u001b[0;34m.\u001b[0m\u001b[0many\u001b[0m\u001b[0;34m(\u001b[0m\u001b[0;36m4\u001b[0m\u001b[0;34m,\u001b[0m\u001b[0;36m2\u001b[0m\u001b[0;34m)\u001b[0m\u001b[0;34m.\u001b[0m\u001b[0mall\u001b[0m\u001b[0;34m(\u001b[0m\u001b[0;36m1\u001b[0m\u001b[0;34m)\u001b[0m\u001b[0;34m)\u001b[0m\u001b[0;34m[\u001b[0m\u001b[0;36m0\u001b[0m\u001b[0;34m]\u001b[0m\u001b[0;34m\u001b[0m\u001b[0;34m\u001b[0m\u001b[0m\n\u001b[0m\u001b[1;32m      5\u001b[0m \u001b[0mprint\u001b[0m\u001b[0;34m(\u001b[0m\u001b[0ma\u001b[0m\u001b[0;34m)\u001b[0m\u001b[0;34m\u001b[0m\u001b[0;34m\u001b[0m\u001b[0m\n",
            "\u001b[0;31mAttributeError\u001b[0m: 'bool' object has no attribute 'any'"
          ]
        }
      ],
      "source": [
        "x=np.random.randint(0,10,(8,3))\n",
        "y=np.random.randint(0,10,(2,2))\n",
        "z=(x[np.newaxis, np.newaxis]==y)\n",
        "a=np.where(z.any(4,2).all(1))[0]\n",
        "print(a)"
      ]
    },
    {
      "cell_type": "markdown",
      "metadata": {
        "id": "WemscUOm2AcS"
      },
      "source": [
        "#### 94. Considering a 10x3 matrix, extract rows with unequal values (e.g. \\[2,2,3\\]) (★★★)"
      ]
    },
    {
      "cell_type": "code",
      "execution_count": null,
      "metadata": {
        "id": "nRWkWS8u2AcS"
      },
      "outputs": [],
      "source": [
        ""
      ]
    },
    {
      "cell_type": "markdown",
      "metadata": {
        "id": "PM7q6r5H2AcS"
      },
      "source": [
        "#### 95. Convert a vector of ints into a matrix binary representation (★★★) \n",
        "(**hint**: np.unpackbits)"
      ]
    },
    {
      "cell_type": "code",
      "execution_count": 108,
      "metadata": {
        "id": "uMgaaQmY2AcS",
        "colab": {
          "base_uri": "https://localhost:8080/"
        },
        "outputId": "380485bf-c319-46a3-ce61-a15b6523b50d"
      },
      "outputs": [
        {
          "output_type": "stream",
          "name": "stdout",
          "text": [
            "[[0 0 0 ... 0 0 0]\n",
            " [0 0 0 ... 0 0 1]\n",
            " [0 0 0 ... 0 1 0]\n",
            " ...\n",
            " [0 0 0 ... 1 0 0]\n",
            " [0 0 0 ... 1 0 1]\n",
            " [0 0 0 ... 1 1 0]]\n"
          ]
        }
      ],
      "source": [
        "x=np.arange(15, dtype=np.uint8)\n",
        "print(np.unpackbits(x[:, np.newaxis], axis=1))"
      ]
    },
    {
      "cell_type": "markdown",
      "metadata": {
        "id": "VtJ56v4o2AcS"
      },
      "source": [
        "#### 96. Given a two dimensional array, how to extract unique rows? (★★★) \n",
        "(**hint**: np.ascontiguousarray)"
      ]
    },
    {
      "cell_type": "code",
      "execution_count": 109,
      "metadata": {
        "id": "_2Tr9JfE2AcT",
        "colab": {
          "base_uri": "https://localhost:8080/"
        },
        "outputId": "f8ce75d2-0689-4191-aaf5-067e74c15831"
      },
      "outputs": [
        {
          "output_type": "stream",
          "name": "stdout",
          "text": [
            "[[0 0 0]\n",
            " [0 1 0]\n",
            " [0 1 1]\n",
            " [1 0 1]\n",
            " [1 1 0]]\n"
          ]
        }
      ],
      "source": [
        "\n",
        "x = np.random.randint(0,2,(6,3))\n",
        "y = np.ascontiguousarray(x).view(np.dtype((np.void, x.dtype.itemsize * x.shape[1])))\n",
        "_, idx = np.unique(y, return_index=True)\n",
        "ux = x[idx]\n",
        "print(ux)"
      ]
    },
    {
      "cell_type": "markdown",
      "metadata": {
        "id": "dC09FY0J2AcT"
      },
      "source": [
        "#### 97. Considering 2 vectors A & B, write the einsum equivalent of inner, outer, sum, and mul function (★★★) \n",
        "(**hint**: np.einsum)"
      ]
    },
    {
      "cell_type": "code",
      "execution_count": 110,
      "metadata": {
        "id": "FMQxCbaP2AcT",
        "colab": {
          "base_uri": "https://localhost:8080/"
        },
        "outputId": "5b1cbac5-1b2b-46d0-bf92-0474a0644e18"
      },
      "outputs": [
        {
          "output_type": "execute_result",
          "data": {
            "text/plain": [
              "array([[ 9.86235032, 18.18411493,  8.59833697, ..., 10.16925526,\n",
              "         3.41473858, 16.42622893],\n",
              "       [ 3.64650947,  6.72340214,  3.17915265, ...,  3.75998463,\n",
              "         1.26256685,  6.07344064],\n",
              "       [ 9.6524122 , 17.79703287,  8.41530568, ...,  9.95278411,\n",
              "         3.34204964, 16.07656668],\n",
              "       ...,\n",
              "       [ 8.21801496, 15.15230383,  7.16474872, ...,  8.47375009,\n",
              "         2.84540417, 13.68750761],\n",
              "       [ 7.37185185, 13.59215572,  6.42703455, ...,  7.60125536,\n",
              "         2.5524288 , 12.27818138],\n",
              "       [ 1.84610303,  3.40382856,  1.60949626, ...,  1.90355163,\n",
              "         0.63919442,  3.07477529]])"
            ]
          },
          "metadata": {},
          "execution_count": 110
        }
      ],
      "source": [
        "x = np.random.uniform(0,5,15)\n",
        "y = np.random.uniform(0,5,15)\n",
        "\n",
        "np.einsum('i->', x)\n",
        "np.einsum('i,i->i', x, y)\n",
        "np.einsum('i,i', x, y)\n",
        "np.einsum('i,j->ij', x, y)"
      ]
    },
    {
      "cell_type": "markdown",
      "metadata": {
        "id": "RWurtxPc2AcT"
      },
      "source": [
        "#### 98. Considering a path described by two vectors (X,Y), how to sample it using equidistant samples (★★★)? \n",
        "(**hint**: np.cumsum, np.interp)"
      ]
    },
    {
      "cell_type": "code",
      "execution_count": null,
      "metadata": {
        "collapsed": true,
        "id": "igamGWWD2AcT"
      },
      "outputs": [],
      "source": [
        ""
      ]
    },
    {
      "cell_type": "markdown",
      "metadata": {
        "id": "m05sro_h2AcT"
      },
      "source": [
        "#### 99. Given an integer n and a 2D array X, select from X the rows which can be interpreted as draws from a multinomial distribution with n degrees, i.e., the rows which only contain integers and which sum to n. (★★★) \n",
        "(**hint**: np.logical\\_and.reduce, np.mod)"
      ]
    },
    {
      "cell_type": "code",
      "execution_count": 111,
      "metadata": {
        "id": "SIyuCdl-2AcT",
        "colab": {
          "base_uri": "https://localhost:8080/"
        },
        "outputId": "dd57cf52-bd68-44b8-a845-eadd98c26814"
      },
      "outputs": [
        {
          "output_type": "stream",
          "name": "stdout",
          "text": [
            "[[2. 0. 1. 1.]]\n"
          ]
        }
      ],
      "source": [
        "X = np.asarray([[1.0, 0.0, 3.0, 8.0],\n",
        "                [2.0, 0.0, 1.0, 1.0],\n",
        "                [1.5, 2.5, 1.0, 0.0]])\n",
        "a = 4\n",
        "M = np.logical_and.reduce(np.mod(X, 1) == 0, axis=-1)\n",
        "M &= (X.sum(axis=-1) == a)\n",
        "print(X[M])"
      ]
    },
    {
      "cell_type": "markdown",
      "metadata": {
        "id": "DRgIm9gP2AcT"
      },
      "source": [
        "#### 100. Compute bootstrapped 95% confidence intervals for the mean of a 1D array X (i.e., resample the elements of an array with replacement N times, compute the mean of each sample, and then compute percentiles over the means). (★★★) \n",
        "(**hint**: np.percentile)"
      ]
    },
    {
      "cell_type": "code",
      "execution_count": 112,
      "metadata": {
        "id": "gEgy64oA2AcT",
        "colab": {
          "base_uri": "https://localhost:8080/"
        },
        "outputId": "110a7863-b0d1-44fa-dcf2-a3752c833b1e"
      },
      "outputs": [
        {
          "output_type": "stream",
          "name": "stdout",
          "text": [
            "[-0.05136609  0.07404806]\n"
          ]
        }
      ],
      "source": [
        "X = np.random.randn(1000)\n",
        "n = 10000\n",
        "idx = np.random.randint(0, X.size, (n, X.size))\n",
        "means = X[idx].mean(axis=1)\n",
        "confident = np.percentile(means, [2.5, 97.5])\n",
        "print(confident)"
      ]
    }
  ],
  "metadata": {
    "kernelspec": {
      "display_name": "Python 3",
      "language": "python",
      "name": "python3"
    },
    "language_info": {
      "codemirror_mode": {
        "name": "ipython",
        "version": 3
      },
      "file_extension": ".py",
      "mimetype": "text/x-python",
      "name": "python",
      "nbconvert_exporter": "python",
      "pygments_lexer": "ipython3",
      "version": "3.8.3"
    },
    "colab": {
      "name": "Copy of Numpy_tasks.ipynb",
      "provenance": [],
      "collapsed_sections": [
        "VEfzeeLC2Ab8",
        "6t9Pjyl12AcG",
        "kPjYWh4s2AcH",
        "MiE3Wc5B2AcH",
        "Oguqm9Ov2AcH",
        "CeWXiXmm2AcH",
        "AmoOnQcP2AcI",
        "r4DFxmlD2AcI",
        "cpMuHtFG2AcI",
        "OeiBVx122AcI",
        "HeWDHcfN2AcI",
        "9nFibGEA2AcJ",
        "Uc_wgBJJ2AcJ",
        "DvJrvp3Q2AcJ",
        "VXM_A2vI2AcK",
        "wJFPXWSi2AcK",
        "5yi1CMOR2AcK",
        "OqzlQf8e2AcK",
        "20EEksBh2AcK",
        "TjjZpcyM2AcL",
        "CqBQ5Zya2AcL",
        "So82YQEB2AcL",
        "5-Sy1uWN2AcL",
        "gQkrP-Ki2AcL",
        "Mpz4ol6w2AcM",
        "5LhJ4hTw2AcM",
        "SBiacZ8q2AcM",
        "1HEBdDMf2AcM",
        "6hWQbSED2AcM",
        "A30QLQAY2AcN",
        "DlpOIq-42AcN",
        "z22fS1ob2AcN",
        "WhDzsWTQ2AcN",
        "HQgKClj02AcN",
        "v1S9Y3TG2AcO",
        "In7hzKCF2AcO",
        "gHFnX3g-2AcO",
        "ov-aR7Gc2AcO",
        "DiL1wZfx2AcP",
        "awuF9hX22AcP",
        "ZWEl7ZO-2AcP",
        "51uCMSKZ2AcP",
        "SfYNiIPN2AcP",
        "i_OZjq-u2AcQ",
        "HtLFpGxw2AcQ",
        "ypNKQMxr2AcQ",
        "bWEpBCB12AcQ",
        "mSqil-lT2AcQ",
        "V98x5Ob-2AcR",
        "VtfbW8fX2AcR",
        "_YPvlmRv2AcR",
        "7eSry7qq2AcS",
        "WemscUOm2AcS",
        "PM7q6r5H2AcS",
        "VtJ56v4o2AcS",
        "dC09FY0J2AcT",
        "RWurtxPc2AcT",
        "m05sro_h2AcT",
        "DRgIm9gP2AcT"
      ],
      "include_colab_link": true
    }
  },
  "nbformat": 4,
  "nbformat_minor": 0
}